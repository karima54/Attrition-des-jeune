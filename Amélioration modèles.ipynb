{
 "cells": [
  {
   "cell_type": "markdown",
   "id": "8ecf89a7",
   "metadata": {},
   "source": [
    "> ### <font color='purple'> Import des bibliothèques</font>"
   ]
  },
  {
   "cell_type": "code",
   "execution_count": 103,
   "id": "c82d2bfb",
   "metadata": {},
   "outputs": [],
   "source": [
    "import pandas as pd\n",
    "import matplotlib.pyplot as plt\n",
    "import numpy as np\n",
    "import seaborn as sns\n",
    "from sklearn.model_selection import train_test_split\n",
    "from sklearn import preprocessing\n",
    "from sklearn import metrics\n",
    "import imblearn\n",
    "from imblearn.over_sampling import SMOTE\n",
    "import sklearn.metrics\n",
    "from sklearn.linear_model import LogisticRegression\n",
    "from sklearn.ensemble import RandomForestClassifier\n",
    "from sklearn.tree import DecisionTreeClassifier\n",
    "from sklearn.model_selection import GridSearchCV,RepeatedStratifiedKFold,cross_val_score\n",
    "from sklearn.linear_model import RidgeCV, LassoCV, Ridge, Lasso\n",
    "from sklearn.linear_model import ElasticNet, SGDClassifier\n",
    "from sklearn.metrics import classification_report,accuracy_score, confusion_matrix\n",
    "from sklearn.ensemble import GradientBoostingClassifier\n",
    "from xgboost import XGBClassifier\n",
    "from xgboost import plot_importance\n",
    "from sklearn.svm import SVC\n",
    "from imblearn.metrics import classification_report_imbalanced\n",
    "import pickle"
   ]
  },
  {
   "cell_type": "code",
   "execution_count": 70,
   "id": "b9ae3941",
   "metadata": {},
   "outputs": [
    {
     "data": {
      "text/html": [
       "<div>\n",
       "<style scoped>\n",
       "    .dataframe tbody tr th:only-of-type {\n",
       "        vertical-align: middle;\n",
       "    }\n",
       "\n",
       "    .dataframe tbody tr th {\n",
       "        vertical-align: top;\n",
       "    }\n",
       "\n",
       "    .dataframe thead th {\n",
       "        text-align: right;\n",
       "    }\n",
       "</style>\n",
       "<table border=\"1\" class=\"dataframe\">\n",
       "  <thead>\n",
       "    <tr style=\"text-align: right;\">\n",
       "      <th></th>\n",
       "      <th>Unnamed: 0</th>\n",
       "      <th>ID_Part_anonymisé</th>\n",
       "      <th>AGE_ANC_PART</th>\n",
       "      <th>departement.1</th>\n",
       "      <th>Age</th>\n",
       "      <th>Attrition</th>\n",
       "      <th>SITU_FAM_AVAN</th>\n",
       "      <th>CD_SEX</th>\n",
       "      <th>NB_CONTRAT_BAQ</th>\n",
       "      <th>NB_CONTRAT_Ass</th>\n",
       "      <th>...</th>\n",
       "      <th>job_PERS.SER</th>\n",
       "      <th>job_PROF,PRO</th>\n",
       "      <th>job_PROF.ADM</th>\n",
       "      <th>job_PROF.INF</th>\n",
       "      <th>job_PROFESSI</th>\n",
       "      <th>job_SS ACT.-</th>\n",
       "      <th>flux_max</th>\n",
       "      <th>flux_min</th>\n",
       "      <th>flux_mean</th>\n",
       "      <th>flux_med</th>\n",
       "    </tr>\n",
       "  </thead>\n",
       "  <tbody>\n",
       "    <tr>\n",
       "      <th>0</th>\n",
       "      <td>0</td>\n",
       "      <td>9901.0</td>\n",
       "      <td>25.0</td>\n",
       "      <td>1.0</td>\n",
       "      <td>24.340426</td>\n",
       "      <td>1.0</td>\n",
       "      <td>1.0</td>\n",
       "      <td>0.0</td>\n",
       "      <td>10.0</td>\n",
       "      <td>0.0</td>\n",
       "      <td>...</td>\n",
       "      <td>0.0</td>\n",
       "      <td>0.0</td>\n",
       "      <td>0.0</td>\n",
       "      <td>0.0</td>\n",
       "      <td>0.0</td>\n",
       "      <td>0.0</td>\n",
       "      <td>21295.66</td>\n",
       "      <td>912.1</td>\n",
       "      <td>5070.973333</td>\n",
       "      <td>1471.435</td>\n",
       "    </tr>\n",
       "    <tr>\n",
       "      <th>1</th>\n",
       "      <td>1</td>\n",
       "      <td>9902.0</td>\n",
       "      <td>25.0</td>\n",
       "      <td>1.0</td>\n",
       "      <td>24.340426</td>\n",
       "      <td>1.0</td>\n",
       "      <td>1.0</td>\n",
       "      <td>0.0</td>\n",
       "      <td>10.0</td>\n",
       "      <td>0.0</td>\n",
       "      <td>...</td>\n",
       "      <td>0.0</td>\n",
       "      <td>0.0</td>\n",
       "      <td>0.0</td>\n",
       "      <td>0.0</td>\n",
       "      <td>0.0</td>\n",
       "      <td>0.0</td>\n",
       "      <td>2800.00</td>\n",
       "      <td>0.0</td>\n",
       "      <td>666.666667</td>\n",
       "      <td>125.000</td>\n",
       "    </tr>\n",
       "    <tr>\n",
       "      <th>2</th>\n",
       "      <td>2</td>\n",
       "      <td>9903.0</td>\n",
       "      <td>24.0</td>\n",
       "      <td>1.0</td>\n",
       "      <td>23.568977</td>\n",
       "      <td>0.0</td>\n",
       "      <td>1.0</td>\n",
       "      <td>1.0</td>\n",
       "      <td>1.0</td>\n",
       "      <td>0.0</td>\n",
       "      <td>...</td>\n",
       "      <td>0.0</td>\n",
       "      <td>0.0</td>\n",
       "      <td>0.0</td>\n",
       "      <td>0.0</td>\n",
       "      <td>0.0</td>\n",
       "      <td>0.0</td>\n",
       "      <td>70.00</td>\n",
       "      <td>10.0</td>\n",
       "      <td>20.000000</td>\n",
       "      <td>10.000</td>\n",
       "    </tr>\n",
       "    <tr>\n",
       "      <th>3</th>\n",
       "      <td>3</td>\n",
       "      <td>9904.0</td>\n",
       "      <td>25.0</td>\n",
       "      <td>1.0</td>\n",
       "      <td>24.543583</td>\n",
       "      <td>0.0</td>\n",
       "      <td>1.0</td>\n",
       "      <td>1.0</td>\n",
       "      <td>8.0</td>\n",
       "      <td>0.0</td>\n",
       "      <td>...</td>\n",
       "      <td>0.0</td>\n",
       "      <td>0.0</td>\n",
       "      <td>0.0</td>\n",
       "      <td>0.0</td>\n",
       "      <td>0.0</td>\n",
       "      <td>0.0</td>\n",
       "      <td>7110.00</td>\n",
       "      <td>30.0</td>\n",
       "      <td>1210.000000</td>\n",
       "      <td>30.000</td>\n",
       "    </tr>\n",
       "    <tr>\n",
       "      <th>4</th>\n",
       "      <td>4</td>\n",
       "      <td>9905.0</td>\n",
       "      <td>25.0</td>\n",
       "      <td>1.0</td>\n",
       "      <td>24.543583</td>\n",
       "      <td>0.0</td>\n",
       "      <td>1.0</td>\n",
       "      <td>1.0</td>\n",
       "      <td>8.0</td>\n",
       "      <td>0.0</td>\n",
       "      <td>...</td>\n",
       "      <td>0.0</td>\n",
       "      <td>0.0</td>\n",
       "      <td>0.0</td>\n",
       "      <td>0.0</td>\n",
       "      <td>0.0</td>\n",
       "      <td>0.0</td>\n",
       "      <td>1500.00</td>\n",
       "      <td>0.0</td>\n",
       "      <td>250.000000</td>\n",
       "      <td>0.000</td>\n",
       "    </tr>\n",
       "  </tbody>\n",
       "</table>\n",
       "<p>5 rows × 103 columns</p>\n",
       "</div>"
      ],
      "text/plain": [
       "   Unnamed: 0  ID_Part_anonymisé  AGE_ANC_PART  departement.1        Age  \\\n",
       "0           0             9901.0          25.0            1.0  24.340426   \n",
       "1           1             9902.0          25.0            1.0  24.340426   \n",
       "2           2             9903.0          24.0            1.0  23.568977   \n",
       "3           3             9904.0          25.0            1.0  24.543583   \n",
       "4           4             9905.0          25.0            1.0  24.543583   \n",
       "\n",
       "   Attrition  SITU_FAM_AVAN  CD_SEX  NB_CONTRAT_BAQ  NB_CONTRAT_Ass  ...  \\\n",
       "0        1.0            1.0     0.0            10.0             0.0  ...   \n",
       "1        1.0            1.0     0.0            10.0             0.0  ...   \n",
       "2        0.0            1.0     1.0             1.0             0.0  ...   \n",
       "3        0.0            1.0     1.0             8.0             0.0  ...   \n",
       "4        0.0            1.0     1.0             8.0             0.0  ...   \n",
       "\n",
       "   job_PERS.SER  job_PROF,PRO  job_PROF.ADM  job_PROF.INF  job_PROFESSI  \\\n",
       "0           0.0           0.0           0.0           0.0           0.0   \n",
       "1           0.0           0.0           0.0           0.0           0.0   \n",
       "2           0.0           0.0           0.0           0.0           0.0   \n",
       "3           0.0           0.0           0.0           0.0           0.0   \n",
       "4           0.0           0.0           0.0           0.0           0.0   \n",
       "\n",
       "   job_SS ACT.-  flux_max  flux_min    flux_mean  flux_med  \n",
       "0           0.0  21295.66     912.1  5070.973333  1471.435  \n",
       "1           0.0   2800.00       0.0   666.666667   125.000  \n",
       "2           0.0     70.00      10.0    20.000000    10.000  \n",
       "3           0.0   7110.00      30.0  1210.000000    30.000  \n",
       "4           0.0   1500.00       0.0   250.000000     0.000  \n",
       "\n",
       "[5 rows x 103 columns]"
      ]
     },
     "execution_count": 70,
     "metadata": {},
     "output_type": "execute_result"
    }
   ],
   "source": [
    "df = pd.read_csv('BDD_nettoyé.csv')\n",
    "df.head()"
   ]
  },
  {
   "cell_type": "code",
   "execution_count": 71,
   "id": "bcb2a7be",
   "metadata": {},
   "outputs": [],
   "source": [
    "df = df.drop(\"Unnamed: 0\", axis = 1)"
   ]
  },
  {
   "cell_type": "code",
   "execution_count": 72,
   "id": "d5e1bb8d",
   "metadata": {},
   "outputs": [],
   "source": [
    "#Supprimer les variables Id_part et la traget\n",
    "ID = df['ID_Part_anonymisé']\n",
    "X = df.drop(['Attrition','ID_Part_anonymisé'], axis = 1)\n",
    "y = df['Attrition']"
   ]
  },
  {
   "cell_type": "markdown",
   "id": "33e89317",
   "metadata": {},
   "source": [
    "> ### <font color ='purple'> Standardiser les valeurs </font>"
   ]
  },
  {
   "cell_type": "code",
   "execution_count": 74,
   "id": "a8e4ba93",
   "metadata": {},
   "outputs": [],
   "source": [
    "scaler = preprocessing.StandardScaler()\n",
    "names = X.columns\n",
    "scaled_df = scaler.fit_transform(X)\n",
    "scaled_df = pd.DataFrame(scaled_df, columns=names)"
   ]
  },
  {
   "cell_type": "code",
   "execution_count": 75,
   "id": "77fdcf27",
   "metadata": {},
   "outputs": [],
   "source": [
    "# Créer train et test\n",
    "X_train,X_test,y_train,y_test = train_test_split(scaled_df,y, test_size = 0.3,random_state=42)"
   ]
  },
  {
   "cell_type": "code",
   "execution_count": 76,
   "id": "a416b50c",
   "metadata": {},
   "outputs": [
    {
     "data": {
      "text/plain": [
       "(((26571, 100), (26571,)), ((11388, 100), (11388,)))"
      ]
     },
     "execution_count": 76,
     "metadata": {},
     "output_type": "execute_result"
    }
   ],
   "source": [
    "(X_train.shape, y_train.shape), (X_test.shape, y_test.shape)"
   ]
  },
  {
   "cell_type": "markdown",
   "id": "e577ae86",
   "metadata": {},
   "source": [
    "> ### <font color='purple'> Random Forest </font>"
   ]
  },
  {
   "cell_type": "code",
   "execution_count": 77,
   "id": "974d194a",
   "metadata": {},
   "outputs": [],
   "source": [
    "clf = RandomForestClassifier(random_state=42)"
   ]
  },
  {
   "cell_type": "code",
   "execution_count": 11,
   "id": "07a82d92",
   "metadata": {},
   "outputs": [
    {
     "name": "stdout",
     "output_type": "stream",
     "text": [
      "Fitting 5 folds for each of 360 candidates, totalling 1800 fits\n"
     ]
    },
    {
     "name": "stderr",
     "output_type": "stream",
     "text": [
      "[Parallel(n_jobs=-1)]: Using backend LokyBackend with 8 concurrent workers.\n",
      "[Parallel(n_jobs=-1)]: Done  34 tasks      | elapsed:   28.9s\n",
      "[Parallel(n_jobs=-1)]: Done 184 tasks      | elapsed:  2.7min\n",
      "[Parallel(n_jobs=-1)]: Done 434 tasks      | elapsed:  7.4min\n",
      "[Parallel(n_jobs=-1)]: Done 784 tasks      | elapsed: 15.8min\n",
      "[Parallel(n_jobs=-1)]: Done 1234 tasks      | elapsed: 25.4min\n",
      "[Parallel(n_jobs=-1)]: Done 1784 tasks      | elapsed: 38.8min\n",
      "[Parallel(n_jobs=-1)]: Done 1800 out of 1800 | elapsed: 39.2min finished\n"
     ]
    },
    {
     "data": {
      "text/plain": [
       "GridSearchCV(estimator=RandomForestClassifier(random_state=42), n_jobs=-1,\n",
       "             param_grid={'criterion': ['gini', 'entropy'],\n",
       "                         'max_depth': [4, 5, 6, 7, 8],\n",
       "                         'max_features': ['auto', 'sqrt', 'log2'],\n",
       "                         'min_samples_split': [2, 4, 6],\n",
       "                         'n_estimators': [50, 100, 250, 500]},\n",
       "             verbose=1)"
      ]
     },
     "execution_count": 11,
     "metadata": {},
     "output_type": "execute_result"
    }
   ],
   "source": [
    "params =  {'n_estimators': [50,100,250,500],\n",
    "           'max_features': ['auto', 'sqrt', 'log2'],\n",
    "           'max_depth' : [4,5,6,7,8],\n",
    "           'criterion' :['gini', 'entropy'],\n",
    "           'min_samples_split': [2, 4, 6]}\n",
    "\n",
    "gridsearch_cv=GridSearchCV(clf,\n",
    "                   param_grid = params,\n",
    "                   verbose = 1,\n",
    "                   n_jobs=-1)\n",
    "gridsearch_cv.fit(X_train, y_train)"
   ]
  },
  {
   "cell_type": "markdown",
   "id": "4a562c1a",
   "metadata": {},
   "source": [
    "#### <font color='Chocolate'> Meilleur parametres </font>"
   ]
  },
  {
   "cell_type": "code",
   "execution_count": 12,
   "id": "6214fe52",
   "metadata": {},
   "outputs": [
    {
     "data": {
      "text/plain": [
       "{'criterion': 'gini',\n",
       " 'max_depth': 8,\n",
       " 'max_features': 'auto',\n",
       " 'min_samples_split': 4,\n",
       " 'n_estimators': 50}"
      ]
     },
     "execution_count": 12,
     "metadata": {},
     "output_type": "execute_result"
    }
   ],
   "source": [
    "gridsearch_cv.best_params_"
   ]
  },
  {
   "cell_type": "markdown",
   "id": "8a33b0c7",
   "metadata": {},
   "source": [
    "#### <font color='Chocolate'> Meilleur estimateur </font>"
   ]
  },
  {
   "cell_type": "code",
   "execution_count": 78,
   "id": "432c8436",
   "metadata": {},
   "outputs": [],
   "source": [
    "model_RF =RandomForestClassifier(criterion= 'gini',max_depth= 8,max_features='auto',\n",
    " min_samples_split= 4,n_estimators= 50)"
   ]
  },
  {
   "cell_type": "code",
   "execution_count": 13,
   "id": "953cfbd2",
   "metadata": {},
   "outputs": [],
   "source": [
    "model_RF = gridsearch_cv.best_estimator_"
   ]
  },
  {
   "cell_type": "markdown",
   "id": "3a1d045d",
   "metadata": {},
   "source": [
    "#### <font color='Chocolate'> Entrainer le modèle </font>"
   ]
  },
  {
   "cell_type": "code",
   "execution_count": 79,
   "id": "3062cd50",
   "metadata": {},
   "outputs": [
    {
     "data": {
      "text/plain": [
       "RandomForestClassifier(max_depth=8, min_samples_split=4, n_estimators=50)"
      ]
     },
     "execution_count": 79,
     "metadata": {},
     "output_type": "execute_result"
    }
   ],
   "source": [
    "model_RF.fit(X_train, y_train)"
   ]
  },
  {
   "cell_type": "markdown",
   "id": "64e8f2ac",
   "metadata": {},
   "source": [
    "#### <font color='Chocolate'> Prédictions </font>"
   ]
  },
  {
   "cell_type": "code",
   "execution_count": 80,
   "id": "9ca567b4",
   "metadata": {},
   "outputs": [],
   "source": [
    "pred_RF = model_RF.predict(X_test)"
   ]
  },
  {
   "cell_type": "markdown",
   "id": "2722757f",
   "metadata": {},
   "source": [
    "#### <font color='Chocolate'>Evaluation </font>"
   ]
  },
  {
   "cell_type": "code",
   "execution_count": 81,
   "id": "d920d6fc",
   "metadata": {},
   "outputs": [
    {
     "name": "stdout",
     "output_type": "stream",
     "text": [
      "              precision    recall  f1-score   support\n",
      "\n",
      "         0.0       0.94      1.00      0.97     10731\n",
      "         1.0       0.85      0.04      0.07       657\n",
      "\n",
      "    accuracy                           0.94     11388\n",
      "   macro avg       0.90      0.52      0.52     11388\n",
      "weighted avg       0.94      0.94      0.92     11388\n",
      "\n",
      "============================================================\n",
      "                   pre       rec       spe        f1       geo       iba       sup\n",
      "\n",
      "        0.0       0.94      1.00      0.04      0.97      0.19      0.04     10731\n",
      "        1.0       0.85      0.04      1.00      0.07      0.19      0.03       657\n",
      "\n",
      "avg / total       0.94      0.94      0.09      0.92      0.19      0.04     11388\n",
      "\n"
     ]
    }
   ],
   "source": [
    "report = classification_report(y_test, pred_RF)\n",
    "report1 = classification_report_imbalanced(y_test, pred_RF)\n",
    "print(report)\n",
    "print(\"=\"*60)\n",
    "print(report1)"
   ]
  },
  {
   "cell_type": "markdown",
   "id": "b25733cc",
   "metadata": {},
   "source": [
    " <strong>Remarque</strong> : précision élévée(0.83) et recall faible, la classe positives n'est pas bien détecté mais lorsqu'elle l'est le modèle est fiable donc le Random Forest n'est pas adapté à situation"
   ]
  },
  {
   "cell_type": "markdown",
   "id": "7387259f",
   "metadata": {},
   "source": [
    "> ### <font color='purple'>XGBoost Classifier </font>"
   ]
  },
  {
   "cell_type": "code",
   "execution_count": 82,
   "id": "5b46ce10",
   "metadata": {},
   "outputs": [],
   "source": [
    "model_XGB = XGBClassifier(base_score=0.5, booster='dart', colsample_bylevel=1,\n",
    "              colsample_bynode=0.5, colsample_bytree=0.5, gamma=0, gpu_id=-1,\n",
    "              importance_type='gain', interaction_constraints='',\n",
    "              learning_rate=0.2, max_delta_step=0, max_depth=3,\n",
    "              min_child_weight=3, monotone_constraints='()',\n",
    "              n_estimators=100, n_jobs=8, num_parallel_tree=1, random_state=164,\n",
    "              reg_alpha=0, reg_lambda=1, scale_pos_weight=5, subsample=0.5,\n",
    "              tree_method='exact', validate_parameters=1, verbosity=None)"
   ]
  },
  {
   "cell_type": "code",
   "execution_count": 83,
   "id": "8afa458c",
   "metadata": {},
   "outputs": [
    {
     "data": {
      "text/plain": [
       "XGBClassifier(base_score=0.5, booster='dart', colsample_bylevel=1,\n",
       "              colsample_bynode=0.5, colsample_bytree=0.5, gamma=0, gpu_id=-1,\n",
       "              importance_type='gain', interaction_constraints='',\n",
       "              learning_rate=0.2, max_delta_step=0, max_depth=3,\n",
       "              min_child_weight=3, missing=nan, monotone_constraints='()',\n",
       "              n_estimators=100, n_jobs=8, num_parallel_tree=1, random_state=164,\n",
       "              reg_alpha=0, reg_lambda=1, scale_pos_weight=5, subsample=0.5,\n",
       "              tree_method='exact', validate_parameters=1, verbosity=None)"
      ]
     },
     "execution_count": 83,
     "metadata": {},
     "output_type": "execute_result"
    }
   ],
   "source": [
    "model_XGB.fit(X_train,y_train)"
   ]
  },
  {
   "cell_type": "code",
   "execution_count": 84,
   "id": "31b0887c",
   "metadata": {},
   "outputs": [],
   "source": [
    "pred_XGB = model_XGB.predict(X_test)"
   ]
  },
  {
   "cell_type": "code",
   "execution_count": 86,
   "id": "d34ec16f",
   "metadata": {},
   "outputs": [
    {
     "name": "stdout",
     "output_type": "stream",
     "text": [
      "              precision    recall  f1-score   support\n",
      "\n",
      "         0.0       0.98      0.93      0.95     10731\n",
      "         1.0       0.36      0.62      0.46       657\n",
      "\n",
      "    accuracy                           0.91     11388\n",
      "   macro avg       0.67      0.77      0.70     11388\n",
      "weighted avg       0.94      0.91      0.93     11388\n",
      "\n",
      "============================================================\n",
      "                   pre       rec       spe        f1       geo       iba       sup\n",
      "\n",
      "        0.0       0.98      0.93      0.62      0.95      0.76      0.59     10731\n",
      "        1.0       0.36      0.62      0.93      0.46      0.76      0.56       657\n",
      "\n",
      "avg / total       0.94      0.91      0.63      0.93      0.76      0.59     11388\n",
      "\n"
     ]
    }
   ],
   "source": [
    "report =  classification_report(y_test, pred_XGB)\n",
    "print(report)\n",
    "print(\"=\"*60)\n",
    "report1 = classification_report_imbalanced(y_test, pred_XGB)\n",
    "print(report1)"
   ]
  },
  {
   "cell_type": "markdown",
   "id": "6a686c60",
   "metadata": {},
   "source": [
    "#### <font color='Chocolate'> Matrice de confusion </font>"
   ]
  },
  {
   "cell_type": "code",
   "execution_count": 87,
   "id": "977b2acf",
   "metadata": {},
   "outputs": [
    {
     "data": {
      "text/plain": [
       "[Text(0, 0.5, 'Client'), Text(0, 1.5, 'Prospect')]"
      ]
     },
     "execution_count": 87,
     "metadata": {},
     "output_type": "execute_result"
    },
    {
     "data": {
      "image/png": "[encoded data removed]",
      "text/plain": [
       "<Figure size 432x288 with 2 Axes>"
      ]
     },
     "metadata": {
      "needs_background": "light"
     },
     "output_type": "display_data"
    }
   ],
   "source": [
    "fig = plt.figure()\n",
    "# Matrice de confusion\n",
    "ax= plt.subplot()\n",
    "sns.heatmap(confusion_matrix(y_test,pred_XGB), annot=True, ax = ax ,fmt='g'); #annot=True to annotate cells\n",
    "ax.set_xlabel('Valeurs prédites');ax.set_ylabel('Valeurs réelles'); \n",
    "ax.set_title(' Confusion Matrix '); \n",
    "bottom, top = ax.get_ylim()\n",
    "ax.set_ylim(bottom + 0.5, top - 0.5)\n",
    "ax.xaxis.set_ticklabels(['Client', 'Prospect']); ax.yaxis.set_ticklabels(['Client', 'Prospect'])"
   ]
  },
  {
   "cell_type": "markdown",
   "id": "f09f573c",
   "metadata": {},
   "source": [
    "> ### <font color = 'purple'> Equilibrer le data set avec smote </font>"
   ]
  },
  {
   "cell_type": "code",
   "execution_count": 88,
   "id": "b1340ce0",
   "metadata": {},
   "outputs": [],
   "source": [
    "sm = SMOTE(random_state=42)\n",
    "X_res, y_res = sm.fit_resample(X_train, y_train)"
   ]
  },
  {
   "cell_type": "code",
   "execution_count": 89,
   "id": "894f5e9c",
   "metadata": {},
   "outputs": [
    {
     "name": "stdout",
     "output_type": "stream",
     "text": [
      "Après l'équilibrage, le compte des '1' : 25112\n",
      "Après l'équilibrage, le compte des '0' : 25112\n"
     ]
    }
   ],
   "source": [
    "print(\"Après l'équilibrage, le compte des '1' : {}\".format(sum(y_res==1)))\n",
    "print(\"Après l'équilibrage, le compte des '0' : {}\".format(sum(y_res==0)))"
   ]
  },
  {
   "cell_type": "markdown",
   "id": "359e06c8",
   "metadata": {},
   "source": [
    "> ### <font color = 'purple'> Refaire le modèle en équilibrant le data set avec smote </font>"
   ]
  },
  {
   "cell_type": "code",
   "execution_count": 90,
   "id": "562392fe",
   "metadata": {},
   "outputs": [
    {
     "data": {
      "text/plain": [
       "XGBClassifier(base_score=0.5, booster='dart', colsample_bylevel=1,\n",
       "              colsample_bynode=0.5, colsample_bytree=0.5, gamma=0, gpu_id=-1,\n",
       "              importance_type='gain', interaction_constraints='',\n",
       "              learning_rate=0.2, max_delta_step=0, max_depth=3,\n",
       "              min_child_weight=3, missing=nan, monotone_constraints='()',\n",
       "              n_estimators=100, n_jobs=8, num_parallel_tree=1, random_state=164,\n",
       "              reg_alpha=0, reg_lambda=1, scale_pos_weight=5, subsample=0.5,\n",
       "              tree_method='exact', validate_parameters=1, verbosity=None)"
      ]
     },
     "execution_count": 90,
     "metadata": {},
     "output_type": "execute_result"
    }
   ],
   "source": [
    "model_XGB.fit(X_res, y_res)"
   ]
  },
  {
   "cell_type": "code",
   "execution_count": 91,
   "id": "4298308e",
   "metadata": {},
   "outputs": [],
   "source": [
    "pred_XGB_equi = model_XGB.predict(X_test)"
   ]
  },
  {
   "cell_type": "code",
   "execution_count": 92,
   "id": "d3eb34e0",
   "metadata": {},
   "outputs": [
    {
     "name": "stdout",
     "output_type": "stream",
     "text": [
      "              precision    recall  f1-score   support\n",
      "\n",
      "         0.0       0.99      0.81      0.89     10731\n",
      "         1.0       0.21      0.80      0.33       657\n",
      "\n",
      "    accuracy                           0.81     11388\n",
      "   macro avg       0.60      0.81      0.61     11388\n",
      "weighted avg       0.94      0.81      0.86     11388\n",
      "\n"
     ]
    }
   ],
   "source": [
    "report = classification_report(y_test, pred_XGB_equi)\n",
    "# report1 = classification_report_imbalanced(y_test, pred_XGB_equi)\n",
    "print(report)\n",
    "# print(\"=\"*60)\n",
    "# print(report1)"
   ]
  },
  {
   "cell_type": "code",
   "execution_count": 93,
   "id": "9375cfa6",
   "metadata": {},
   "outputs": [
    {
     "data": {
      "text/plain": [
       "[Text(0, 0.5, 'Client'), Text(0, 1.5, 'Prospect')]"
      ]
     },
     "execution_count": 93,
     "metadata": {},
     "output_type": "execute_result"
    },
    {
     "data": {
      "image/png": "[encoded data removed]",
      "text/plain": [
       "<Figure size 432x288 with 2 Axes>"
      ]
     },
     "metadata": {
      "needs_background": "light"
     },
     "output_type": "display_data"
    }
   ],
   "source": [
    "fig = plt.figure()\n",
    "# Matrice de confusion\n",
    "ax= plt.subplot()\n",
    "sns.heatmap(confusion_matrix(y_test,pred_XGB_equi), annot=True, ax = ax ,fmt='g'); #annot=True to annotate cells\n",
    "ax.set_xlabel('Valeurs prédites');ax.set_ylabel('Valeurs réelles'); \n",
    "ax.set_title(' Confusion Matrix '); \n",
    "bottom, top = ax.get_ylim()\n",
    "ax.set_ylim(bottom + 0.5, top - 0.5)\n",
    "ax.xaxis.set_ticklabels(['Client', 'Prospect']); ax.yaxis.set_ticklabels(['Client', 'Prospect'])"
   ]
  },
  {
   "cell_type": "markdown",
   "id": "ea514c83",
   "metadata": {},
   "source": [
    "<strong>Remarque</strong>: On remarque qu'en équilibrant le data set avec smote,le recall s'est amélioré et le nombre de faux positif a diminué. donc nous retenant ce modèle pour la prédiction"
   ]
  },
  {
   "cell_type": "code",
   "execution_count": 94,
   "id": "33fe3e2d",
   "metadata": {},
   "outputs": [
    {
     "data": {
      "text/html": [
       "<div>\n",
       "<style scoped>\n",
       "    .dataframe tbody tr th:only-of-type {\n",
       "        vertical-align: middle;\n",
       "    }\n",
       "\n",
       "    .dataframe tbody tr th {\n",
       "        vertical-align: top;\n",
       "    }\n",
       "\n",
       "    .dataframe thead th {\n",
       "        text-align: right;\n",
       "    }\n",
       "</style>\n",
       "<table border=\"1\" class=\"dataframe\">\n",
       "  <thead>\n",
       "    <tr style=\"text-align: right;\">\n",
       "      <th></th>\n",
       "      <th>Importance</th>\n",
       "    </tr>\n",
       "  </thead>\n",
       "  <tbody>\n",
       "    <tr>\n",
       "      <th>AGE_ANC_PART</th>\n",
       "      <td>0.019847</td>\n",
       "    </tr>\n",
       "    <tr>\n",
       "      <th>departement.1</th>\n",
       "      <td>0.003915</td>\n",
       "    </tr>\n",
       "    <tr>\n",
       "      <th>Age</th>\n",
       "      <td>0.009613</td>\n",
       "    </tr>\n",
       "    <tr>\n",
       "      <th>SITU_FAM_AVAN</th>\n",
       "      <td>0.010890</td>\n",
       "    </tr>\n",
       "    <tr>\n",
       "      <th>CD_SEX</th>\n",
       "      <td>0.029602</td>\n",
       "    </tr>\n",
       "    <tr>\n",
       "      <th>...</th>\n",
       "      <td>...</td>\n",
       "    </tr>\n",
       "    <tr>\n",
       "      <th>job_SS ACT.-</th>\n",
       "      <td>0.020234</td>\n",
       "    </tr>\n",
       "    <tr>\n",
       "      <th>flux_max</th>\n",
       "      <td>0.006368</td>\n",
       "    </tr>\n",
       "    <tr>\n",
       "      <th>flux_min</th>\n",
       "      <td>0.005692</td>\n",
       "    </tr>\n",
       "    <tr>\n",
       "      <th>flux_mean</th>\n",
       "      <td>0.023020</td>\n",
       "    </tr>\n",
       "    <tr>\n",
       "      <th>flux_med</th>\n",
       "      <td>0.007766</td>\n",
       "    </tr>\n",
       "  </tbody>\n",
       "</table>\n",
       "<p>100 rows × 1 columns</p>\n",
       "</div>"
      ],
      "text/plain": [
       "               Importance\n",
       "AGE_ANC_PART     0.019847\n",
       "departement.1    0.003915\n",
       "Age              0.009613\n",
       "SITU_FAM_AVAN    0.010890\n",
       "CD_SEX           0.029602\n",
       "...                   ...\n",
       "job_SS ACT.-     0.020234\n",
       "flux_max         0.006368\n",
       "flux_min         0.005692\n",
       "flux_mean        0.023020\n",
       "flux_med         0.007766\n",
       "\n",
       "[100 rows x 1 columns]"
      ]
     },
     "execution_count": 94,
     "metadata": {},
     "output_type": "execute_result"
    }
   ],
   "source": [
    "feature_imp = pd.Series(model_XGB.feature_importances_,index=X_train.columns).sort_values(ascending=False)\n",
    "feature_imp = pd.DataFrame(feature_imp,index=X_train.columns, columns = ['Importance'])\n",
    "feature_imp"
   ]
  },
  {
   "cell_type": "code",
   "execution_count": 95,
   "id": "c3cedcd8",
   "metadata": {},
   "outputs": [
    {
     "data": {
      "text/html": [
       "<div>\n",
       "<style scoped>\n",
       "    .dataframe tbody tr th:only-of-type {\n",
       "        vertical-align: middle;\n",
       "    }\n",
       "\n",
       "    .dataframe tbody tr th {\n",
       "        vertical-align: top;\n",
       "    }\n",
       "\n",
       "    .dataframe thead th {\n",
       "        text-align: right;\n",
       "    }\n",
       "</style>\n",
       "<table border=\"1\" class=\"dataframe\">\n",
       "  <thead>\n",
       "    <tr style=\"text-align: right;\">\n",
       "      <th></th>\n",
       "      <th>Importance</th>\n",
       "    </tr>\n",
       "  </thead>\n",
       "  <tbody>\n",
       "    <tr>\n",
       "      <th>NB_DAV</th>\n",
       "      <td>0.081904</td>\n",
       "    </tr>\n",
       "    <tr>\n",
       "      <th>NB_EPARGNE</th>\n",
       "      <td>0.071275</td>\n",
       "    </tr>\n",
       "    <tr>\n",
       "      <th>NB_CONTRAT_eprgn</th>\n",
       "      <td>0.046521</td>\n",
       "    </tr>\n",
       "    <tr>\n",
       "      <th>NB_CONTRAT_Ass</th>\n",
       "      <td>0.040903</td>\n",
       "    </tr>\n",
       "    <tr>\n",
       "      <th>NB_PEL_CARRE</th>\n",
       "      <td>0.040406</td>\n",
       "    </tr>\n",
       "    <tr>\n",
       "      <th>MT_1</th>\n",
       "      <td>0.035751</td>\n",
       "    </tr>\n",
       "    <tr>\n",
       "      <th>NB_CONTRAT_cred</th>\n",
       "      <td>0.034290</td>\n",
       "    </tr>\n",
       "    <tr>\n",
       "      <th>NB_CONTRAT_BAQ</th>\n",
       "      <td>0.033850</td>\n",
       "    </tr>\n",
       "    <tr>\n",
       "      <th>enfant_client</th>\n",
       "      <td>0.032147</td>\n",
       "    </tr>\n",
       "    <tr>\n",
       "      <th>CD_SEX</th>\n",
       "      <td>0.029602</td>\n",
       "    </tr>\n",
       "  </tbody>\n",
       "</table>\n",
       "</div>"
      ],
      "text/plain": [
       "                  Importance\n",
       "NB_DAV              0.081904\n",
       "NB_EPARGNE          0.071275\n",
       "NB_CONTRAT_eprgn    0.046521\n",
       "NB_CONTRAT_Ass      0.040903\n",
       "NB_PEL_CARRE        0.040406\n",
       "MT_1                0.035751\n",
       "NB_CONTRAT_cred     0.034290\n",
       "NB_CONTRAT_BAQ      0.033850\n",
       "enfant_client       0.032147\n",
       "CD_SEX              0.029602"
      ]
     },
     "execution_count": 95,
     "metadata": {},
     "output_type": "execute_result"
    }
   ],
   "source": [
    "top10 = feature_imp.sort_values(by = 'Importance',ascending=False).head(10)\n",
    "top10"
   ]
  },
  {
   "cell_type": "code",
   "execution_count": 109,
   "id": "c516204b",
   "metadata": {},
   "outputs": [],
   "source": [
    "train = X_res[['NB_DAV','NB_EPARGNE','NB_CONTRAT_Ass', 'MT_1', 'NB_CONTRAT_cred','enfant_client', 'CD_SEX' ]]\n",
    "test = X_test[['NB_DAV','NB_EPARGNE','NB_CONTRAT_Ass', 'MT_1', 'NB_CONTRAT_cred','enfant_client' ,'CD_SEX' ]]"
   ]
  },
  {
   "cell_type": "code",
   "execution_count": 123,
   "id": "42063f40",
   "metadata": {},
   "outputs": [
    {
     "data": {
      "text/plain": [
       "XGBClassifier(base_score=0.5, booster='dart', colsample_bylevel=1,\n",
       "              colsample_bynode=0.5, colsample_bytree=0.5, gamma=0, gpu_id=-1,\n",
       "              importance_type='gain', interaction_constraints='',\n",
       "              learning_rate=0.2, max_delta_step=0, max_depth=3,\n",
       "              min_child_weight=3, missing=nan, monotone_constraints='()',\n",
       "              n_estimators=100, n_jobs=8, num_parallel_tree=1, random_state=164,\n",
       "              reg_alpha=0, reg_lambda=1, scale_pos_weight=5, subsample=0.5,\n",
       "              tree_method='exact', validate_parameters=1, verbosity=None)"
      ]
     },
     "execution_count": 123,
     "metadata": {},
     "output_type": "execute_result"
    }
   ],
   "source": [
    "model_XGB.fit(train,y_res)"
   ]
  },
  {
   "cell_type": "code",
   "execution_count": 124,
   "id": "618fc082",
   "metadata": {},
   "outputs": [],
   "source": [
    "pred_XGB_top10 = model_XGB.predict(test)"
   ]
  },
  {
   "cell_type": "code",
   "execution_count": 118,
   "id": "9f0a963d",
   "metadata": {},
   "outputs": [],
   "source": [
    "pd.DataFrame(pred_XGB_top10).to_csv('prediction.csv', encoding = 'utf-8')"
   ]
  },
  {
   "cell_type": "code",
   "execution_count": 119,
   "id": "cfed866d",
   "metadata": {},
   "outputs": [],
   "source": [
    "y_test.to_csv('reel.csv')"
   ]
  },
  {
   "cell_type": "code",
   "execution_count": 112,
   "id": "7851dce2",
   "metadata": {},
   "outputs": [
    {
     "name": "stdout",
     "output_type": "stream",
     "text": [
      "              precision    recall  f1-score   support\n",
      "\n",
      "         0.0       0.99      0.60      0.74     10731\n",
      "         1.0       0.12      0.85      0.20       657\n",
      "\n",
      "    accuracy                           0.61     11388\n",
      "   macro avg       0.55      0.73      0.47     11388\n",
      "weighted avg       0.94      0.61      0.71     11388\n",
      "\n"
     ]
    }
   ],
   "source": [
    "report = classification_report(y_test, pred_XGB_top10)\n",
    "# report1 = classification_report_imbalanced(y_test, pred_XGB_equi)\n",
    "print(report)\n",
    "# print(\"=\"*60)\n",
    "# print(report1)"
   ]
  },
  {
   "cell_type": "code",
   "execution_count": 113,
   "id": "7a536d5a",
   "metadata": {},
   "outputs": [
    {
     "data": {
      "text/plain": [
       "[Text(0, 0.5, 'Client'), Text(0, 1.5, 'Prospect')]"
      ]
     },
     "execution_count": 113,
     "metadata": {},
     "output_type": "execute_result"
    },
    {
     "data": {
      "image/png": "[encoded data removed]",
      "text/plain": [
       "<Figure size 432x288 with 2 Axes>"
      ]
     },
     "metadata": {
      "needs_background": "light"
     },
     "output_type": "display_data"
    }
   ],
   "source": [
    "fig = plt.figure()\n",
    "# Matrice de confusion\n",
    "ax= plt.subplot()\n",
    "sns.heatmap(confusion_matrix(y_test,pred_XGB_top10), annot=True, ax = ax ,fmt='g'); #annot=True to annotate cells\n",
    "ax.set_xlabel('Valeurs prédites');ax.set_ylabel('Valeurs réelles'); \n",
    "ax.set_title(' Confusion Matrix '); \n",
    "bottom, top = ax.get_ylim()\n",
    "ax.set_ylim(bottom + 0.5, top - 0.5)\n",
    "ax.xaxis.set_ticklabels(['Client', 'Prospect']); ax.yaxis.set_ticklabels(['Client', 'Prospect'])"
   ]
  },
  {
   "cell_type": "code",
   "execution_count": 126,
   "id": "e13c82a9",
   "metadata": {},
   "outputs": [],
   "source": [
    "proba = model_XGB.predict_proba(test)\n",
    "pd.DataFrame(proba, columns = ['Classe 0','Classe 1']).to_csv('probabilite.csv')"
   ]
  },
  {
   "cell_type": "markdown",
   "id": "46d82efd",
   "metadata": {},
   "source": [
    "<strong>Remarque : </strong><br> Le taux de faux negatifs s'est améliorer, on décide de garder ce modéle pour les prédictions"
   ]
  },
  {
   "cell_type": "markdown",
   "id": "1abb46b3",
   "metadata": {},
   "source": [
    "> ### <font color ='purple'> Enregistrement du modèle</font>"
   ]
  },
  {
   "cell_type": "code",
   "execution_count": 114,
   "id": "9e6a2cfb",
   "metadata": {},
   "outputs": [],
   "source": [
    "pickle.dump(model_XGB,open('model.pkl','wb'))"
   ]
  },
  {
   "cell_type": "code",
   "execution_count": null,
   "id": "f8d36136",
   "metadata": {},
   "outputs": [],
   "source": []
  }
 ],
 "metadata": {
  "kernelspec": {
   "display_name": "Python 3",
   "language": "python",
   "name": "python3"
  },
  "language_info": {
   "codemirror_mode": {
    "name": "ipython",
    "version": 3
   },
   "file_extension": ".py",
   "mimetype": "text/x-python",
   "name": "python",
   "nbconvert_exporter": "python",
   "pygments_lexer": "ipython3",
   "version": "3.8.4"
  }
 },
 "nbformat": 4,
 "nbformat_minor": 5
}
