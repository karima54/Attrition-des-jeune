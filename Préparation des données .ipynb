{
 "cells": [
  {
   "cell_type": "code",
   "execution_count": null,
   "id": "5580f2b4",
   "metadata": {},
   "outputs": [],
   "source": []
  },
  {
   "cell_type": "code",
   "execution_count": 1,
   "id": "72197d26",
   "metadata": {},
   "outputs": [],
   "source": [
    "import pandas as pd\n",
    "import matplotlib.pyplot as plt\n",
    "import numpy as np\n",
    "import seaborn as sns\n",
    "import xlrd"
   ]
  },
  {
   "cell_type": "code",
   "execution_count": 2,
   "id": "d79f543d",
   "metadata": {},
   "outputs": [],
   "source": [
    "# Quand le format xlsx n'est pas supporté \n",
    "#pip install openpyxl\n",
    "#changer le moteur d'ouverture du fichier excel avec engine='openpyxl'"
   ]
  },
  {
   "cell_type": "code",
   "execution_count": 3,
   "id": "eef10988",
   "metadata": {},
   "outputs": [],
   "source": [
    "df = pd.read_excel('base_atri_partie1.xlsx', engine = 'openpyxl')"
   ]
  },
  {
   "cell_type": "code",
   "execution_count": 4,
   "id": "8a5c9c47",
   "metadata": {},
   "outputs": [
    {
     "data": {
      "text/html": [
       "<div>\n",
       "<style scoped>\n",
       "    .dataframe tbody tr th:only-of-type {\n",
       "        vertical-align: middle;\n",
       "    }\n",
       "\n",
       "    .dataframe tbody tr th {\n",
       "        vertical-align: top;\n",
       "    }\n",
       "\n",
       "    .dataframe thead th {\n",
       "        text-align: right;\n",
       "    }\n",
       "</style>\n",
       "<table border=\"1\" class=\"dataframe\">\n",
       "  <thead>\n",
       "    <tr style=\"text-align: right;\">\n",
       "      <th></th>\n",
       "      <th>ID_Part_anonymisé</th>\n",
       "      <th>CD_CLI_PROSP</th>\n",
       "      <th>CT_PART</th>\n",
       "      <th>AGE_ANC_PART</th>\n",
       "      <th>DT_NAIS_CREAT</th>\n",
       "      <th>departement</th>\n",
       "      <th>departement.1</th>\n",
       "      <th>DT_IN_REL</th>\n",
       "      <th>DF_REL</th>\n",
       "      <th>DD_PROSP</th>\n",
       "      <th>...</th>\n",
       "      <th>NB_ASS_VIE_RENTE</th>\n",
       "      <th>enfant_client</th>\n",
       "      <th>ID_PART3</th>\n",
       "      <th>CD_SS_STATU_MTF_CNTCT1</th>\n",
       "      <th>CD_STATU_MTF_CNTCT1</th>\n",
       "      <th>offre_25AN</th>\n",
       "      <th>ID_PART2</th>\n",
       "      <th>CD_SS_STATU_MTF_CNTCT</th>\n",
       "      <th>CD_STATU_MTF_CNTCT</th>\n",
       "      <th>offre_18AN</th>\n",
       "    </tr>\n",
       "  </thead>\n",
       "  <tbody>\n",
       "    <tr>\n",
       "      <th>0</th>\n",
       "      <td>9901</td>\n",
       "      <td>P</td>\n",
       "      <td>PP</td>\n",
       "      <td>25</td>\n",
       "      <td>1995-09-22</td>\n",
       "      <td>Ardennes</td>\n",
       "      <td>GE</td>\n",
       "      <td>2005-01-06</td>\n",
       "      <td>2020-06-11</td>\n",
       "      <td>11Jun2020</td>\n",
       "      <td>...</td>\n",
       "      <td>0.0</td>\n",
       "      <td>0</td>\n",
       "      <td>NaN</td>\n",
       "      <td>NaN</td>\n",
       "      <td>NaN</td>\n",
       "      <td>0</td>\n",
       "      <td>NaN</td>\n",
       "      <td>NaN</td>\n",
       "      <td>NaN</td>\n",
       "      <td>0</td>\n",
       "    </tr>\n",
       "    <tr>\n",
       "      <th>1</th>\n",
       "      <td>9902</td>\n",
       "      <td>P</td>\n",
       "      <td>PP</td>\n",
       "      <td>25</td>\n",
       "      <td>1995-09-22</td>\n",
       "      <td>Ardennes</td>\n",
       "      <td>GE</td>\n",
       "      <td>2005-01-06</td>\n",
       "      <td>2020-06-11</td>\n",
       "      <td>11Jun2020</td>\n",
       "      <td>...</td>\n",
       "      <td>0.0</td>\n",
       "      <td>0</td>\n",
       "      <td>NaN</td>\n",
       "      <td>NaN</td>\n",
       "      <td>NaN</td>\n",
       "      <td>0</td>\n",
       "      <td>NaN</td>\n",
       "      <td>NaN</td>\n",
       "      <td>NaN</td>\n",
       "      <td>0</td>\n",
       "    </tr>\n",
       "    <tr>\n",
       "      <th>2</th>\n",
       "      <td>9903</td>\n",
       "      <td>C</td>\n",
       "      <td>PP</td>\n",
       "      <td>24</td>\n",
       "      <td>1996-06-29</td>\n",
       "      <td>Moselle</td>\n",
       "      <td>GE</td>\n",
       "      <td>1997-01-01</td>\n",
       "      <td>NaT</td>\n",
       "      <td>NaN</td>\n",
       "      <td>...</td>\n",
       "      <td>0.0</td>\n",
       "      <td>1</td>\n",
       "      <td>9903.0</td>\n",
       "      <td>TR</td>\n",
       "      <td>TR</td>\n",
       "      <td>1</td>\n",
       "      <td>NaN</td>\n",
       "      <td>NaN</td>\n",
       "      <td>NaN</td>\n",
       "      <td>0</td>\n",
       "    </tr>\n",
       "    <tr>\n",
       "      <th>3</th>\n",
       "      <td>9904</td>\n",
       "      <td>C</td>\n",
       "      <td>PP</td>\n",
       "      <td>25</td>\n",
       "      <td>1995-07-10</td>\n",
       "      <td>Meuse</td>\n",
       "      <td>GE</td>\n",
       "      <td>2007-08-10</td>\n",
       "      <td>NaT</td>\n",
       "      <td>NaN</td>\n",
       "      <td>...</td>\n",
       "      <td>0.0</td>\n",
       "      <td>1</td>\n",
       "      <td>NaN</td>\n",
       "      <td>NaN</td>\n",
       "      <td>NaN</td>\n",
       "      <td>0</td>\n",
       "      <td>NaN</td>\n",
       "      <td>NaN</td>\n",
       "      <td>NaN</td>\n",
       "      <td>0</td>\n",
       "    </tr>\n",
       "    <tr>\n",
       "      <th>4</th>\n",
       "      <td>9905</td>\n",
       "      <td>C</td>\n",
       "      <td>PP</td>\n",
       "      <td>25</td>\n",
       "      <td>1995-07-10</td>\n",
       "      <td>Meuse</td>\n",
       "      <td>GE</td>\n",
       "      <td>2007-08-10</td>\n",
       "      <td>NaT</td>\n",
       "      <td>NaN</td>\n",
       "      <td>...</td>\n",
       "      <td>0.0</td>\n",
       "      <td>1</td>\n",
       "      <td>9905.0</td>\n",
       "      <td>NaN</td>\n",
       "      <td>PE</td>\n",
       "      <td>1</td>\n",
       "      <td>NaN</td>\n",
       "      <td>NaN</td>\n",
       "      <td>NaN</td>\n",
       "      <td>0</td>\n",
       "    </tr>\n",
       "  </tbody>\n",
       "</table>\n",
       "<p>5 rows × 109 columns</p>\n",
       "</div>"
      ],
      "text/plain": [
       "   ID_Part_anonymisé CD_CLI_PROSP CT_PART  AGE_ANC_PART DT_NAIS_CREAT  \\\n",
       "0               9901            P      PP            25    1995-09-22   \n",
       "1               9902            P      PP            25    1995-09-22   \n",
       "2               9903            C      PP            24    1996-06-29   \n",
       "3               9904            C      PP            25    1995-07-10   \n",
       "4               9905            C      PP            25    1995-07-10   \n",
       "\n",
       "  departement departement.1  DT_IN_REL     DF_REL   DD_PROSP  ...  \\\n",
       "0    Ardennes            GE 2005-01-06 2020-06-11  11Jun2020  ...   \n",
       "1    Ardennes            GE 2005-01-06 2020-06-11  11Jun2020  ...   \n",
       "2     Moselle            GE 1997-01-01        NaT        NaN  ...   \n",
       "3       Meuse            GE 2007-08-10        NaT        NaN  ...   \n",
       "4       Meuse            GE 2007-08-10        NaT        NaN  ...   \n",
       "\n",
       "   NB_ASS_VIE_RENTE  enfant_client  ID_PART3 CD_SS_STATU_MTF_CNTCT1  \\\n",
       "0               0.0              0       NaN                    NaN   \n",
       "1               0.0              0       NaN                    NaN   \n",
       "2               0.0              1    9903.0                     TR   \n",
       "3               0.0              1       NaN                    NaN   \n",
       "4               0.0              1    9905.0                    NaN   \n",
       "\n",
       "   CD_STATU_MTF_CNTCT1 offre_25AN  ID_PART2  CD_SS_STATU_MTF_CNTCT  \\\n",
       "0                  NaN          0       NaN                    NaN   \n",
       "1                  NaN          0       NaN                    NaN   \n",
       "2                   TR          1       NaN                    NaN   \n",
       "3                  NaN          0       NaN                    NaN   \n",
       "4                   PE          1       NaN                    NaN   \n",
       "\n",
       "   CD_STATU_MTF_CNTCT  offre_18AN  \n",
       "0                 NaN           0  \n",
       "1                 NaN           0  \n",
       "2                 NaN           0  \n",
       "3                 NaN           0  \n",
       "4                 NaN           0  \n",
       "\n",
       "[5 rows x 109 columns]"
      ]
     },
     "execution_count": 4,
     "metadata": {},
     "output_type": "execute_result"
    }
   ],
   "source": [
    "df.head()"
   ]
  },
  {
   "cell_type": "code",
   "execution_count": 5,
   "id": "56e7e5cf",
   "metadata": {},
   "outputs": [
    {
     "data": {
      "text/plain": [
       "(37959, 109)"
      ]
     },
     "execution_count": 5,
     "metadata": {},
     "output_type": "execute_result"
    }
   ],
   "source": [
    "df.shape"
   ]
  },
  {
   "cell_type": "code",
   "execution_count": 6,
   "id": "a1c7ab55",
   "metadata": {},
   "outputs": [
    {
     "data": {
      "text/plain": [
       "Index(['ID_Part_anonymisé', 'CD_CLI_PROSP', 'CT_PART', 'AGE_ANC_PART',\n",
       "       'DT_NAIS_CREAT', 'departement', 'departement.1', 'DT_IN_REL', 'DF_REL',\n",
       "       'DD_PROSP',\n",
       "       ...\n",
       "       'NB_ASS_VIE_RENTE', 'enfant_client', 'ID_PART3',\n",
       "       'CD_SS_STATU_MTF_CNTCT1', 'CD_STATU_MTF_CNTCT1', 'offre_25AN',\n",
       "       'ID_PART2', 'CD_SS_STATU_MTF_CNTCT', 'CD_STATU_MTF_CNTCT',\n",
       "       'offre_18AN'],\n",
       "      dtype='object', length=109)"
      ]
     },
     "execution_count": 6,
     "metadata": {},
     "output_type": "execute_result"
    }
   ],
   "source": [
    "df.columns"
   ]
  },
  {
   "cell_type": "markdown",
   "id": "c95ce82e",
   "metadata": {},
   "source": [
    "- #### Supprimer les varaibles qui ont servis à la construction de la base de données tels que Date d'entrée en relation, date de fin de relation,..."
   ]
  },
  {
   "cell_type": "code",
   "execution_count": 21,
   "id": "4c00c8b3",
   "metadata": {},
   "outputs": [],
   "source": [
    "df1 = df[['ID_Part_anonymisé','AGE_ANC_PART','departement.1','Age','Attrition','SITU_FAM_AVAN',\n",
    "         'CD_SEX','situ_pro','NB_CONTRAT_BAQ','NB_CONTRAT_Ass','NB_CONTRAT_eprgn','NB_CONTRAT_cred','NB_CONX_BAM_12M',\n",
    "         'NB_CONX_BAM_1M','NB_CONX_BAM_3M','NB_CONX_INET_MOBL_12M','NB_CONX_INET_MOBL_1M','NB_CONX_INET_MOBL_3M',\n",
    "         'NB_MSG_LU_BAM_SECU_12M','NB_OPERN_AG_1M','NB_OPERN_AG_3M','NB_OPERN_AG_12M','NB_OPERN_AG_FIN_1M',\n",
    "         'NB_OPERN_AG_FIN_3M','NB_OPERN_AG_FIN_12M','NB_OPERN_AG_WEB_1M','NB_OPERN_AG_WEB_3M','NB_OPERN_AG_WEB_12M',\n",
    "         'MT_1','MT_2','MT_3','MT_4','MT_5','MT_6','MT_7','MT_8','MT_9','MT_10','MT_11','MT_12','NB_DAV',\n",
    "         'NB_OC_DEC_AUTOR','NB_CRDT_HABIT','NB_PEL_CAR_BLEU','NB_CEL_CAR_JAUNE','NB_PEL_CAR_VERT','NB_CODEBIS',\n",
    "         'NB_CSL','NB_EPARGNE','NB_EP_HORS_BILAN','NB_DAT_CDN_BDC','NB_LDD','NB_LEP','NB_LIV_CEL','NB_LIV_A',\n",
    "         'NB_LIV_JEUN_MOZAIC','NB_TIWI','NB_PEL_CAR_MAUVE','TOP_LIVRETS_JEUNE','NB_CAP_DEC_ABON','NB_ASS_VIE_HDG',\n",
    "         'NB_ASS_VIE','NB_ESP_LIBERTE','NB_FLORIAGRI','NB_FLORIANE','NB_PEP_ASS','NB_PER_ASS','NB_PL_VERT_AVEN_ABON',\n",
    "         'NB_PL_VERT_VITAL_ABON','NB_PREDIAGRI','NB_PREDIAGRI_ABON','NB_PREDIANCE','NB_PREDIANE','NB_ASS_VIE_ABON',\n",
    "         'NB_PREDICIS','NB_PREDIGE','NB_CTO','NB_DAT','NB_PEA','NB_CTO_ABON','NB_PEA_ABO','NB_VERS_AVENIR','NB_PEL_CARRE',\n",
    "         'NB_PL_VERT_VITAL','NB_PL_VERT_AVENIR','NB_PREDISSIME_9','NB_EP_BILAN','NB_EP_LIQUIDE','NB_EP_STABLE','NB_CSL_BOOST',\n",
    "         'NB_ASS_VIE_RENTE','enfant_client','offre_25AN','offre_18AN']]"
   ]
  },
  {
   "cell_type": "markdown",
   "id": "232ef4df",
   "metadata": {},
   "source": [
    "- #### Information sur le data set"
   ]
  },
  {
   "cell_type": "code",
   "execution_count": 22,
   "id": "33461957",
   "metadata": {
    "scrolled": true
   },
   "outputs": [
    {
     "name": "stdout",
     "output_type": "stream",
     "text": [
      "<class 'pandas.core.frame.DataFrame'>\n",
      "RangeIndex: 37959 entries, 0 to 37958\n",
      "Data columns (total 94 columns):\n",
      " #   Column                  Non-Null Count  Dtype  \n",
      "---  ------                  --------------  -----  \n",
      " 0   ID_Part_anonymisé       37959 non-null  int64  \n",
      " 1   AGE_ANC_PART            37959 non-null  int64  \n",
      " 2   departement.1           37959 non-null  object \n",
      " 3   Age                     37959 non-null  float64\n",
      " 4   Attrition               37959 non-null  int64  \n",
      " 5   SITU_FAM_AVAN           37959 non-null  int64  \n",
      " 6   CD_SEX                  37959 non-null  object \n",
      " 7   situ_pro                37737 non-null  object \n",
      " 8   NB_CONTRAT_BAQ          36743 non-null  float64\n",
      " 9   NB_CONTRAT_Ass          9811 non-null   float64\n",
      " 10  NB_CONTRAT_eprgn        36463 non-null  float64\n",
      " 11  NB_CONTRAT_cred         6050 non-null   float64\n",
      " 12  NB_CONX_BAM_12M         35699 non-null  float64\n",
      " 13  NB_CONX_BAM_1M          35699 non-null  float64\n",
      " 14  NB_CONX_BAM_3M          35699 non-null  float64\n",
      " 15  NB_CONX_INET_MOBL_12M   35699 non-null  float64\n",
      " 16  NB_CONX_INET_MOBL_1M    35699 non-null  float64\n",
      " 17  NB_CONX_INET_MOBL_3M    35699 non-null  float64\n",
      " 18  NB_MSG_LU_BAM_SECU_12M  35699 non-null  float64\n",
      " 19  NB_OPERN_AG_1M          35699 non-null  float64\n",
      " 20  NB_OPERN_AG_3M          35699 non-null  float64\n",
      " 21  NB_OPERN_AG_12M         35699 non-null  float64\n",
      " 22  NB_OPERN_AG_FIN_1M      35699 non-null  float64\n",
      " 23  NB_OPERN_AG_FIN_3M      35699 non-null  float64\n",
      " 24  NB_OPERN_AG_FIN_12M     35699 non-null  float64\n",
      " 25  NB_OPERN_AG_WEB_1M      35699 non-null  float64\n",
      " 26  NB_OPERN_AG_WEB_3M      35699 non-null  float64\n",
      " 27  NB_OPERN_AG_WEB_12M     35699 non-null  float64\n",
      " 28  MT_1                    32147 non-null  float64\n",
      " 29  MT_2                    21543 non-null  float64\n",
      " 30  MT_3                    22145 non-null  float64\n",
      " 31  MT_4                    22282 non-null  float64\n",
      " 32  MT_5                    22610 non-null  float64\n",
      " 33  MT_6                    23065 non-null  float64\n",
      " 34  MT_7                    23337 non-null  float64\n",
      " 35  MT_8                    23416 non-null  float64\n",
      " 36  MT_9                    24100 non-null  float64\n",
      " 37  MT_10                   24136 non-null  float64\n",
      " 38  MT_11                   24204 non-null  float64\n",
      " 39  MT_12                   24538 non-null  float64\n",
      " 40  NB_DAV                  37642 non-null  float64\n",
      " 41  NB_OC_DEC_AUTOR         37642 non-null  float64\n",
      " 42  NB_CRDT_HABIT           0 non-null      float64\n",
      " 43  NB_PEL_CAR_BLEU         37642 non-null  float64\n",
      " 44  NB_CEL_CAR_JAUNE        37642 non-null  float64\n",
      " 45  NB_PEL_CAR_VERT         37642 non-null  float64\n",
      " 46  NB_CODEBIS              37642 non-null  float64\n",
      " 47  NB_CSL                  37642 non-null  float64\n",
      " 48  NB_EPARGNE              37642 non-null  float64\n",
      " 49  NB_EP_HORS_BILAN        37642 non-null  float64\n",
      " 50  NB_DAT_CDN_BDC          37642 non-null  float64\n",
      " 51  NB_LDD                  37642 non-null  float64\n",
      " 52  NB_LEP                  37642 non-null  float64\n",
      " 53  NB_LIV_CEL              37642 non-null  float64\n",
      " 54  NB_LIV_A                37642 non-null  float64\n",
      " 55  NB_LIV_JEUN_MOZAIC      37642 non-null  float64\n",
      " 56  NB_TIWI                 37642 non-null  float64\n",
      " 57  NB_PEL_CAR_MAUVE        37642 non-null  float64\n",
      " 58  TOP_LIVRETS_JEUNE       37642 non-null  float64\n",
      " 59  NB_CAP_DEC_ABON         37642 non-null  float64\n",
      " 60  NB_ASS_VIE_HDG          37642 non-null  float64\n",
      " 61  NB_ASS_VIE              37642 non-null  float64\n",
      " 62  NB_ESP_LIBERTE          37642 non-null  float64\n",
      " 63  NB_FLORIAGRI            37642 non-null  float64\n",
      " 64  NB_FLORIANE             37642 non-null  float64\n",
      " 65  NB_PEP_ASS              37642 non-null  float64\n",
      " 66  NB_PER_ASS              0 non-null      float64\n",
      " 67  NB_PL_VERT_AVEN_ABON    37642 non-null  float64\n",
      " 68  NB_PL_VERT_VITAL_ABON   37642 non-null  float64\n",
      " 69  NB_PREDIAGRI            37642 non-null  float64\n",
      " 70  NB_PREDIAGRI_ABON       37642 non-null  float64\n",
      " 71  NB_PREDIANCE            37642 non-null  float64\n",
      " 72  NB_PREDIANE             37642 non-null  float64\n",
      " 73  NB_ASS_VIE_ABON         37642 non-null  float64\n",
      " 74  NB_PREDICIS             37642 non-null  float64\n",
      " 75  NB_PREDIGE              37642 non-null  float64\n",
      " 76  NB_CTO                  37642 non-null  float64\n",
      " 77  NB_DAT                  37642 non-null  float64\n",
      " 78  NB_PEA                  37642 non-null  float64\n",
      " 79  NB_CTO_ABON             37642 non-null  float64\n",
      " 80  NB_PEA_ABO              37642 non-null  float64\n",
      " 81  NB_VERS_AVENIR          37642 non-null  float64\n",
      " 82  NB_PEL_CARRE            37642 non-null  float64\n",
      " 83  NB_PL_VERT_VITAL        37642 non-null  float64\n",
      " 84  NB_PL_VERT_AVENIR       37642 non-null  float64\n",
      " 85  NB_PREDISSIME_9         37642 non-null  float64\n",
      " 86  NB_EP_BILAN             37642 non-null  float64\n",
      " 87  NB_EP_LIQUIDE           37642 non-null  float64\n",
      " 88  NB_EP_STABLE            37642 non-null  float64\n",
      " 89  NB_CSL_BOOST            37642 non-null  float64\n",
      " 90  NB_ASS_VIE_RENTE        37642 non-null  float64\n",
      " 91  enfant_client           37959 non-null  int64  \n",
      " 92  offre_25AN              37959 non-null  int64  \n",
      " 93  offre_18AN              37959 non-null  int64  \n",
      "dtypes: float64(84), int64(7), object(3)\n",
      "memory usage: 27.2+ MB\n"
     ]
    }
   ],
   "source": [
    "df1.info()"
   ]
  },
  {
   "cell_type": "markdown",
   "id": "3cda3da6",
   "metadata": {},
   "source": [
    "- #### Toutes les varibles sont numériques sauf 3 qi sont catégorielle : le département, le genre et la proffession "
   ]
  },
  {
   "cell_type": "code",
   "execution_count": 23,
   "id": "c1f6a6ff",
   "metadata": {},
   "outputs": [
    {
     "data": {
      "text/plain": [
       "ID_Part_anonymisé      0\n",
       "AGE_ANC_PART           0\n",
       "departement.1          0\n",
       "Age                    0\n",
       "Attrition              0\n",
       "                    ... \n",
       "NB_CSL_BOOST         317\n",
       "NB_ASS_VIE_RENTE     317\n",
       "enfant_client          0\n",
       "offre_25AN             0\n",
       "offre_18AN             0\n",
       "Length: 94, dtype: int64"
      ]
     },
     "execution_count": 23,
     "metadata": {},
     "output_type": "execute_result"
    }
   ],
   "source": [
    "# Voir si nous avons des données manquantes\n",
    "df1.isna().sum()"
   ]
  },
  {
   "cell_type": "markdown",
   "id": "ef992066",
   "metadata": {},
   "source": [
    "- ### Remplacer les valeurs manquante par des zéro"
   ]
  },
  {
   "cell_type": "code",
   "execution_count": 24,
   "id": "82345021",
   "metadata": {},
   "outputs": [
    {
     "name": "stderr",
     "output_type": "stream",
     "text": [
      "c:\\python38\\lib\\site-packages\\pandas\\core\\frame.py:4147: SettingWithCopyWarning: \n",
      "A value is trying to be set on a copy of a slice from a DataFrame\n",
      "\n",
      "See the caveats in the documentation: https://pandas.pydata.org/pandas-docs/stable/user_guide/indexing.html#returning-a-view-versus-a-copy\n",
      "  return super().fillna(\n"
     ]
    }
   ],
   "source": [
    "#Remplacer les valeurs manquantes par 0\n",
    "df1.fillna(0,inplace=True)"
   ]
  },
  {
   "cell_type": "code",
   "execution_count": 25,
   "id": "f36a492e",
   "metadata": {},
   "outputs": [],
   "source": [
    "#df1.isna().sum()"
   ]
  },
  {
   "cell_type": "markdown",
   "id": "99a9f73b",
   "metadata": {},
   "source": [
    "LabelEncoder takes this:\n",
    "\n",
    "|Sex|\n",
    "|------|\n",
    "| Male |\n",
    "|Female|\n",
    "\n",
    "and converts it into:\n",
    "\n",
    "| Male| Fem | \n",
    "|-----|-----|\n",
    "| 1   | 0   |\n",
    "| 0   | 1   |\n",
    "\n",
    "LabelEncoder takes this:\n",
    "\n",
    "|    Département     |\n",
    "|--------------------|\n",
    "|   GE(Grand Est)    |\n",
    "| HGE(Hors Grand Est)|\n",
    "\n",
    "and converts it into:\n",
    "\n",
    "| GE  | HGE | \n",
    "|-----|-----|\n",
    "| 1   | 0   |  \n",
    "| 0   | 1   |  "
   ]
  },
  {
   "cell_type": "code",
   "execution_count": 26,
   "id": "0250a20a",
   "metadata": {},
   "outputs": [
    {
     "name": "stderr",
     "output_type": "stream",
     "text": [
      "c:\\python38\\lib\\site-packages\\pandas\\core\\generic.py:6746: SettingWithCopyWarning: \n",
      "A value is trying to be set on a copy of a slice from a DataFrame\n",
      "\n",
      "See the caveats in the documentation: https://pandas.pydata.org/pandas-docs/stable/user_guide/indexing.html#returning-a-view-versus-a-copy\n",
      "  self._update_inplace(new_data)\n"
     ]
    }
   ],
   "source": [
    "# encoder le variable CD_SEX et departement et transformer la variable situ_pro en variable\n",
    "df1['departement.1'].replace('GE',1,inplace=True)\n",
    "df1['departement.1'].replace('HGE',0,inplace=True)\n",
    "df1['CD_SEX'].replace('M',1,inplace=True)\n",
    "df1['CD_SEX'].replace('F',0,inplace=True)"
   ]
  },
  {
   "cell_type": "markdown",
   "id": "f96c86ce",
   "metadata": {},
   "source": [
    "- #### Créer des Dummies avec la colonne profession"
   ]
  },
  {
   "cell_type": "code",
   "execution_count": 27,
   "id": "3fa31d6f",
   "metadata": {},
   "outputs": [],
   "source": [
    "df1 = pd.concat([df1.drop('situ_pro', axis=1), pd.get_dummies(df1['situ_pro'], prefix='job')], axis=1)"
   ]
  },
  {
   "cell_type": "code",
   "execution_count": 28,
   "id": "131ccf51",
   "metadata": {},
   "outputs": [
    {
     "data": {
      "text/html": [
       "<div>\n",
       "<style scoped>\n",
       "    .dataframe tbody tr th:only-of-type {\n",
       "        vertical-align: middle;\n",
       "    }\n",
       "\n",
       "    .dataframe tbody tr th {\n",
       "        vertical-align: top;\n",
       "    }\n",
       "\n",
       "    .dataframe thead th {\n",
       "        text-align: right;\n",
       "    }\n",
       "</style>\n",
       "<table border=\"1\" class=\"dataframe\">\n",
       "  <thead>\n",
       "    <tr style=\"text-align: right;\">\n",
       "      <th></th>\n",
       "      <th>ID_Part_anonymisé</th>\n",
       "      <th>AGE_ANC_PART</th>\n",
       "      <th>departement.1</th>\n",
       "      <th>Age</th>\n",
       "      <th>Attrition</th>\n",
       "      <th>SITU_FAM_AVAN</th>\n",
       "      <th>CD_SEX</th>\n",
       "      <th>NB_CONTRAT_BAQ</th>\n",
       "      <th>NB_CONTRAT_Ass</th>\n",
       "      <th>NB_CONTRAT_eprgn</th>\n",
       "      <th>...</th>\n",
       "      <th>job_INSTITUT</th>\n",
       "      <th>job_OUVR.NON</th>\n",
       "      <th>job_OUVR.QUA</th>\n",
       "      <th>job_OUVRIER</th>\n",
       "      <th>job_PERS.SER</th>\n",
       "      <th>job_PROF,PRO</th>\n",
       "      <th>job_PROF.ADM</th>\n",
       "      <th>job_PROF.INF</th>\n",
       "      <th>job_PROFESSI</th>\n",
       "      <th>job_SS ACT.-</th>\n",
       "    </tr>\n",
       "  </thead>\n",
       "  <tbody>\n",
       "    <tr>\n",
       "      <th>0</th>\n",
       "      <td>9901</td>\n",
       "      <td>25</td>\n",
       "      <td>1</td>\n",
       "      <td>24.340426</td>\n",
       "      <td>1</td>\n",
       "      <td>1</td>\n",
       "      <td>0</td>\n",
       "      <td>10.0</td>\n",
       "      <td>0.0</td>\n",
       "      <td>2.0</td>\n",
       "      <td>...</td>\n",
       "      <td>0</td>\n",
       "      <td>0</td>\n",
       "      <td>0</td>\n",
       "      <td>0</td>\n",
       "      <td>0</td>\n",
       "      <td>0</td>\n",
       "      <td>0</td>\n",
       "      <td>0</td>\n",
       "      <td>0</td>\n",
       "      <td>0</td>\n",
       "    </tr>\n",
       "    <tr>\n",
       "      <th>1</th>\n",
       "      <td>9902</td>\n",
       "      <td>25</td>\n",
       "      <td>1</td>\n",
       "      <td>24.340426</td>\n",
       "      <td>1</td>\n",
       "      <td>1</td>\n",
       "      <td>0</td>\n",
       "      <td>10.0</td>\n",
       "      <td>0.0</td>\n",
       "      <td>2.0</td>\n",
       "      <td>...</td>\n",
       "      <td>0</td>\n",
       "      <td>0</td>\n",
       "      <td>0</td>\n",
       "      <td>0</td>\n",
       "      <td>0</td>\n",
       "      <td>0</td>\n",
       "      <td>0</td>\n",
       "      <td>0</td>\n",
       "      <td>0</td>\n",
       "      <td>0</td>\n",
       "    </tr>\n",
       "    <tr>\n",
       "      <th>2</th>\n",
       "      <td>9903</td>\n",
       "      <td>24</td>\n",
       "      <td>1</td>\n",
       "      <td>23.568977</td>\n",
       "      <td>0</td>\n",
       "      <td>1</td>\n",
       "      <td>1</td>\n",
       "      <td>1.0</td>\n",
       "      <td>0.0</td>\n",
       "      <td>2.0</td>\n",
       "      <td>...</td>\n",
       "      <td>0</td>\n",
       "      <td>0</td>\n",
       "      <td>0</td>\n",
       "      <td>0</td>\n",
       "      <td>0</td>\n",
       "      <td>0</td>\n",
       "      <td>0</td>\n",
       "      <td>0</td>\n",
       "      <td>0</td>\n",
       "      <td>0</td>\n",
       "    </tr>\n",
       "    <tr>\n",
       "      <th>3</th>\n",
       "      <td>9904</td>\n",
       "      <td>25</td>\n",
       "      <td>1</td>\n",
       "      <td>24.543583</td>\n",
       "      <td>0</td>\n",
       "      <td>1</td>\n",
       "      <td>1</td>\n",
       "      <td>8.0</td>\n",
       "      <td>0.0</td>\n",
       "      <td>2.0</td>\n",
       "      <td>...</td>\n",
       "      <td>0</td>\n",
       "      <td>0</td>\n",
       "      <td>0</td>\n",
       "      <td>0</td>\n",
       "      <td>0</td>\n",
       "      <td>0</td>\n",
       "      <td>0</td>\n",
       "      <td>0</td>\n",
       "      <td>0</td>\n",
       "      <td>0</td>\n",
       "    </tr>\n",
       "    <tr>\n",
       "      <th>4</th>\n",
       "      <td>9905</td>\n",
       "      <td>25</td>\n",
       "      <td>1</td>\n",
       "      <td>24.543583</td>\n",
       "      <td>0</td>\n",
       "      <td>1</td>\n",
       "      <td>1</td>\n",
       "      <td>8.0</td>\n",
       "      <td>0.0</td>\n",
       "      <td>2.0</td>\n",
       "      <td>...</td>\n",
       "      <td>0</td>\n",
       "      <td>0</td>\n",
       "      <td>0</td>\n",
       "      <td>0</td>\n",
       "      <td>0</td>\n",
       "      <td>0</td>\n",
       "      <td>0</td>\n",
       "      <td>0</td>\n",
       "      <td>0</td>\n",
       "      <td>0</td>\n",
       "    </tr>\n",
       "  </tbody>\n",
       "</table>\n",
       "<p>5 rows × 119 columns</p>\n",
       "</div>"
      ],
      "text/plain": [
       "   ID_Part_anonymisé  AGE_ANC_PART  departement.1        Age  Attrition  \\\n",
       "0               9901            25              1  24.340426          1   \n",
       "1               9902            25              1  24.340426          1   \n",
       "2               9903            24              1  23.568977          0   \n",
       "3               9904            25              1  24.543583          0   \n",
       "4               9905            25              1  24.543583          0   \n",
       "\n",
       "   SITU_FAM_AVAN  CD_SEX  NB_CONTRAT_BAQ  NB_CONTRAT_Ass  NB_CONTRAT_eprgn  \\\n",
       "0              1       0            10.0             0.0               2.0   \n",
       "1              1       0            10.0             0.0               2.0   \n",
       "2              1       1             1.0             0.0               2.0   \n",
       "3              1       1             8.0             0.0               2.0   \n",
       "4              1       1             8.0             0.0               2.0   \n",
       "\n",
       "   ...  job_INSTITUT  job_OUVR.NON  job_OUVR.QUA  job_OUVRIER  job_PERS.SER  \\\n",
       "0  ...             0             0             0            0             0   \n",
       "1  ...             0             0             0            0             0   \n",
       "2  ...             0             0             0            0             0   \n",
       "3  ...             0             0             0            0             0   \n",
       "4  ...             0             0             0            0             0   \n",
       "\n",
       "   job_PROF,PRO  job_PROF.ADM  job_PROF.INF  job_PROFESSI  job_SS ACT.-  \n",
       "0             0             0             0             0             0  \n",
       "1             0             0             0             0             0  \n",
       "2             0             0             0             0             0  \n",
       "3             0             0             0             0             0  \n",
       "4             0             0             0             0             0  \n",
       "\n",
       "[5 rows x 119 columns]"
      ]
     },
     "execution_count": 28,
     "metadata": {},
     "output_type": "execute_result"
    }
   ],
   "source": [
    "df1.head()"
   ]
  },
  {
   "cell_type": "code",
   "execution_count": 59,
   "id": "917e7de0",
   "metadata": {},
   "outputs": [],
   "source": [
    "#colonne avec des valeurs nulles\n",
    "df1 = df1.drop(['NB_CRDT_HABIT','NB_CODEBIS','NB_CONX_INET_MOBL_3M','NB_CRDT_HABIT','NB_CODEBIS','NB_TIWI',\n",
    "'NB_ASS_VIE_HDG','NB_PEP_ASS','NB_PER_ASS','NB_PL_VERT_AVEN_ABON','NB_PREDIAGRI','NB_PREDIAGRI_ABON',\n",
    "'NB_PREDIANCE','NB_PREDIGE','NB_PEA_ABO','NB_PL_VERT_AVENIR','NB_CSL_BOOST'], axis = 1)"
   ]
  },
  {
   "cell_type": "code",
   "execution_count": 60,
   "id": "242a9027",
   "metadata": {},
   "outputs": [
    {
     "data": {
      "text/plain": [
       "(37959, 104)"
      ]
     },
     "execution_count": 60,
     "metadata": {},
     "output_type": "execute_result"
    }
   ],
   "source": [
    "df1.shape"
   ]
  },
  {
   "cell_type": "code",
   "execution_count": 65,
   "id": "90f18955",
   "metadata": {},
   "outputs": [],
   "source": [
    "#supprimer les les flux aprés 6 mois comme la table validation n'a que 6 mois sur les flux\n",
    "df1 = df1.drop(['MT_7','MT_8','MT_9','MT_10','MT_11','MT_12'], axis = 1)"
   ]
  },
  {
   "cell_type": "code",
   "execution_count": 90,
   "id": "0e533747",
   "metadata": {
    "scrolled": true
   },
   "outputs": [],
   "source": [
    "# Créer les colonne max, min, moyenne et médiane des flux\n",
    "flux_max = []\n",
    "flux_min = []\n",
    "flux_mean = []\n",
    "flux_med = []\n",
    "for client in range(len(df1)):\n",
    "        t = (df1['MT_1'][client], df1['MT_2'][client],df1['MT_3'][client],df1['MT_4'][client],df1['MT_5'][client], df1['MT_6'][client])\n",
    "        flux_max.append(max(t))\n",
    "        flux_min.append(min(t))      \n",
    "        flux_mean.append(np.mean(t)) \n",
    "        flux_med.append(np.median(t))   "
   ]
  },
  {
   "cell_type": "code",
   "execution_count": 101,
   "id": "77fab665",
   "metadata": {},
   "outputs": [],
   "source": [
    "liste = pd.DataFrame([flux_max,flux_min,flux_mean,flux_med], index =['flux_max','flux_min','flux_mean','flux_med'])   \n",
    "# table = pd.DataFrame(liste, columns = ['flux_max','flux_min','flux_mean','flux_med'], dtype = float)\n",
    "# table\n",
    "liste = liste.transpose()"
   ]
  },
  {
   "cell_type": "code",
   "execution_count": 104,
   "id": "d3ac08e7",
   "metadata": {},
   "outputs": [
    {
     "data": {
      "text/html": [
       "<div>\n",
       "<style scoped>\n",
       "    .dataframe tbody tr th:only-of-type {\n",
       "        vertical-align: middle;\n",
       "    }\n",
       "\n",
       "    .dataframe tbody tr th {\n",
       "        vertical-align: top;\n",
       "    }\n",
       "\n",
       "    .dataframe thead th {\n",
       "        text-align: right;\n",
       "    }\n",
       "</style>\n",
       "<table border=\"1\" class=\"dataframe\">\n",
       "  <thead>\n",
       "    <tr style=\"text-align: right;\">\n",
       "      <th></th>\n",
       "      <th>flux_max</th>\n",
       "      <th>flux_min</th>\n",
       "      <th>flux_mean</th>\n",
       "      <th>flux_med</th>\n",
       "    </tr>\n",
       "  </thead>\n",
       "  <tbody>\n",
       "    <tr>\n",
       "      <th>0</th>\n",
       "      <td>21295.66</td>\n",
       "      <td>912.1</td>\n",
       "      <td>5070.973333</td>\n",
       "      <td>1471.435</td>\n",
       "    </tr>\n",
       "    <tr>\n",
       "      <th>1</th>\n",
       "      <td>2800.00</td>\n",
       "      <td>0.0</td>\n",
       "      <td>666.666667</td>\n",
       "      <td>125.000</td>\n",
       "    </tr>\n",
       "    <tr>\n",
       "      <th>2</th>\n",
       "      <td>70.00</td>\n",
       "      <td>10.0</td>\n",
       "      <td>20.000000</td>\n",
       "      <td>10.000</td>\n",
       "    </tr>\n",
       "    <tr>\n",
       "      <th>3</th>\n",
       "      <td>7110.00</td>\n",
       "      <td>30.0</td>\n",
       "      <td>1210.000000</td>\n",
       "      <td>30.000</td>\n",
       "    </tr>\n",
       "    <tr>\n",
       "      <th>4</th>\n",
       "      <td>1500.00</td>\n",
       "      <td>0.0</td>\n",
       "      <td>250.000000</td>\n",
       "      <td>0.000</td>\n",
       "    </tr>\n",
       "  </tbody>\n",
       "</table>\n",
       "</div>"
      ],
      "text/plain": [
       "   flux_max  flux_min    flux_mean  flux_med\n",
       "0  21295.66     912.1  5070.973333  1471.435\n",
       "1   2800.00       0.0   666.666667   125.000\n",
       "2     70.00      10.0    20.000000    10.000\n",
       "3   7110.00      30.0  1210.000000    30.000\n",
       "4   1500.00       0.0   250.000000     0.000"
      ]
     },
     "execution_count": 104,
     "metadata": {},
     "output_type": "execute_result"
    }
   ],
   "source": [
    "liste.head()"
   ]
  },
  {
   "cell_type": "code",
   "execution_count": 116,
   "id": "416dd867",
   "metadata": {},
   "outputs": [
    {
     "data": {
      "text/plain": [
       "array(['ID_Part_anonymisé', 'AGE_ANC_PART', 'departement.1', 'Age',\n",
       "       'Attrition', 'SITU_FAM_AVAN', 'CD_SEX', 'NB_CONTRAT_BAQ',\n",
       "       'NB_CONTRAT_Ass', 'NB_CONTRAT_eprgn', 'NB_CONTRAT_cred',\n",
       "       'NB_CONX_BAM_12M', 'NB_CONX_BAM_1M', 'NB_CONX_BAM_3M',\n",
       "       'NB_CONX_INET_MOBL_12M', 'NB_CONX_INET_MOBL_1M',\n",
       "       'NB_MSG_LU_BAM_SECU_12M', 'NB_OPERN_AG_1M', 'NB_OPERN_AG_3M',\n",
       "       'NB_OPERN_AG_12M', 'NB_OPERN_AG_FIN_1M', 'NB_OPERN_AG_FIN_3M',\n",
       "       'NB_OPERN_AG_FIN_12M', 'NB_OPERN_AG_WEB_1M', 'NB_OPERN_AG_WEB_3M',\n",
       "       'NB_OPERN_AG_WEB_12M', 'MT_1', 'MT_2', 'MT_3', 'MT_4', 'MT_5',\n",
       "       'MT_6', 'NB_DAV', 'NB_OC_DEC_AUTOR', 'NB_PEL_CAR_BLEU',\n",
       "       'NB_CEL_CAR_JAUNE', 'NB_PEL_CAR_VERT', 'NB_CSL', 'NB_EPARGNE',\n",
       "       'NB_EP_HORS_BILAN', 'NB_DAT_CDN_BDC', 'NB_LDD', 'NB_LEP',\n",
       "       'NB_LIV_CEL', 'NB_LIV_A', 'NB_LIV_JEUN_MOZAIC', 'NB_PEL_CAR_MAUVE',\n",
       "       'TOP_LIVRETS_JEUNE', 'NB_CAP_DEC_ABON', 'NB_ASS_VIE',\n",
       "       'NB_ESP_LIBERTE', 'NB_FLORIAGRI', 'NB_FLORIANE',\n",
       "       'NB_PL_VERT_VITAL_ABON', 'NB_PREDIANE', 'NB_ASS_VIE_ABON',\n",
       "       'NB_PREDICIS', 'NB_CTO', 'NB_DAT', 'NB_PEA', 'NB_CTO_ABON',\n",
       "       'NB_VERS_AVENIR', 'NB_PEL_CARRE', 'NB_PL_VERT_VITAL',\n",
       "       'NB_PREDISSIME_9', 'NB_EP_BILAN', 'NB_EP_LIQUIDE', 'NB_EP_STABLE',\n",
       "       'NB_ASS_VIE_RENTE', 'enfant_client', 'offre_25AN', 'offre_18AN',\n",
       "       'job_0', 'job_ COMMERC', 'job_ PROF.SA', 'job_AG PUBLI',\n",
       "       'job_ANC.ARTI', 'job_ARTISANS', 'job_CADRE AD', 'job_CADRE FO',\n",
       "       'job_CHOMEUR', 'job_CONTREMA', 'job_ELEVES-E', 'job_EMPL.ADM',\n",
       "       'job_EMPL.CIV', 'job_EMPLOYE', 'job_F.PUBLIQ', 'job_INGEN.CA',\n",
       "       'job_INSTITUT', 'job_OUVR.NON', 'job_OUVR.QUA', 'job_OUVRIER',\n",
       "       'job_PERS.SER', 'job_PROF,PRO', 'job_PROF.ADM', 'job_PROF.INF',\n",
       "       'job_PROFESSI', 'job_SS ACT.-', 'flux_max', 'flux_min',\n",
       "       'flux_mean', 'flux_med'], dtype=object)"
      ]
     },
     "execution_count": 116,
     "metadata": {},
     "output_type": "execute_result"
    }
   ],
   "source": [
    "colonne = np.concatenate((df1.columns,['flux_max','flux_min','flux_mean','flux_med']))\n",
    "colonne"
   ]
  },
  {
   "cell_type": "code",
   "execution_count": 118,
   "id": "623e55b5",
   "metadata": {},
   "outputs": [
    {
     "data": {
      "text/html": [
       "<div>\n",
       "<style scoped>\n",
       "    .dataframe tbody tr th:only-of-type {\n",
       "        vertical-align: middle;\n",
       "    }\n",
       "\n",
       "    .dataframe tbody tr th {\n",
       "        vertical-align: top;\n",
       "    }\n",
       "\n",
       "    .dataframe thead th {\n",
       "        text-align: right;\n",
       "    }\n",
       "</style>\n",
       "<table border=\"1\" class=\"dataframe\">\n",
       "  <thead>\n",
       "    <tr style=\"text-align: right;\">\n",
       "      <th></th>\n",
       "      <th>ID_Part_anonymisé</th>\n",
       "      <th>AGE_ANC_PART</th>\n",
       "      <th>departement.1</th>\n",
       "      <th>Age</th>\n",
       "      <th>Attrition</th>\n",
       "      <th>SITU_FAM_AVAN</th>\n",
       "      <th>CD_SEX</th>\n",
       "      <th>NB_CONTRAT_BAQ</th>\n",
       "      <th>NB_CONTRAT_Ass</th>\n",
       "      <th>NB_CONTRAT_eprgn</th>\n",
       "      <th>...</th>\n",
       "      <th>job_PERS.SER</th>\n",
       "      <th>job_PROF,PRO</th>\n",
       "      <th>job_PROF.ADM</th>\n",
       "      <th>job_PROF.INF</th>\n",
       "      <th>job_PROFESSI</th>\n",
       "      <th>job_SS ACT.-</th>\n",
       "      <th>flux_max</th>\n",
       "      <th>flux_min</th>\n",
       "      <th>flux_mean</th>\n",
       "      <th>flux_med</th>\n",
       "    </tr>\n",
       "  </thead>\n",
       "  <tbody>\n",
       "    <tr>\n",
       "      <th>0</th>\n",
       "      <td>9901.0</td>\n",
       "      <td>25.0</td>\n",
       "      <td>1.0</td>\n",
       "      <td>24.340426</td>\n",
       "      <td>1.0</td>\n",
       "      <td>1.0</td>\n",
       "      <td>0.0</td>\n",
       "      <td>10.0</td>\n",
       "      <td>0.0</td>\n",
       "      <td>2.0</td>\n",
       "      <td>...</td>\n",
       "      <td>0.0</td>\n",
       "      <td>0.0</td>\n",
       "      <td>0.0</td>\n",
       "      <td>0.0</td>\n",
       "      <td>0.0</td>\n",
       "      <td>0.0</td>\n",
       "      <td>21295.66</td>\n",
       "      <td>912.1</td>\n",
       "      <td>5070.973333</td>\n",
       "      <td>1471.435</td>\n",
       "    </tr>\n",
       "    <tr>\n",
       "      <th>1</th>\n",
       "      <td>9902.0</td>\n",
       "      <td>25.0</td>\n",
       "      <td>1.0</td>\n",
       "      <td>24.340426</td>\n",
       "      <td>1.0</td>\n",
       "      <td>1.0</td>\n",
       "      <td>0.0</td>\n",
       "      <td>10.0</td>\n",
       "      <td>0.0</td>\n",
       "      <td>2.0</td>\n",
       "      <td>...</td>\n",
       "      <td>0.0</td>\n",
       "      <td>0.0</td>\n",
       "      <td>0.0</td>\n",
       "      <td>0.0</td>\n",
       "      <td>0.0</td>\n",
       "      <td>0.0</td>\n",
       "      <td>2800.00</td>\n",
       "      <td>0.0</td>\n",
       "      <td>666.666667</td>\n",
       "      <td>125.000</td>\n",
       "    </tr>\n",
       "    <tr>\n",
       "      <th>2</th>\n",
       "      <td>9903.0</td>\n",
       "      <td>24.0</td>\n",
       "      <td>1.0</td>\n",
       "      <td>23.568977</td>\n",
       "      <td>0.0</td>\n",
       "      <td>1.0</td>\n",
       "      <td>1.0</td>\n",
       "      <td>1.0</td>\n",
       "      <td>0.0</td>\n",
       "      <td>2.0</td>\n",
       "      <td>...</td>\n",
       "      <td>0.0</td>\n",
       "      <td>0.0</td>\n",
       "      <td>0.0</td>\n",
       "      <td>0.0</td>\n",
       "      <td>0.0</td>\n",
       "      <td>0.0</td>\n",
       "      <td>70.00</td>\n",
       "      <td>10.0</td>\n",
       "      <td>20.000000</td>\n",
       "      <td>10.000</td>\n",
       "    </tr>\n",
       "    <tr>\n",
       "      <th>3</th>\n",
       "      <td>9904.0</td>\n",
       "      <td>25.0</td>\n",
       "      <td>1.0</td>\n",
       "      <td>24.543583</td>\n",
       "      <td>0.0</td>\n",
       "      <td>1.0</td>\n",
       "      <td>1.0</td>\n",
       "      <td>8.0</td>\n",
       "      <td>0.0</td>\n",
       "      <td>2.0</td>\n",
       "      <td>...</td>\n",
       "      <td>0.0</td>\n",
       "      <td>0.0</td>\n",
       "      <td>0.0</td>\n",
       "      <td>0.0</td>\n",
       "      <td>0.0</td>\n",
       "      <td>0.0</td>\n",
       "      <td>7110.00</td>\n",
       "      <td>30.0</td>\n",
       "      <td>1210.000000</td>\n",
       "      <td>30.000</td>\n",
       "    </tr>\n",
       "    <tr>\n",
       "      <th>4</th>\n",
       "      <td>9905.0</td>\n",
       "      <td>25.0</td>\n",
       "      <td>1.0</td>\n",
       "      <td>24.543583</td>\n",
       "      <td>0.0</td>\n",
       "      <td>1.0</td>\n",
       "      <td>1.0</td>\n",
       "      <td>8.0</td>\n",
       "      <td>0.0</td>\n",
       "      <td>2.0</td>\n",
       "      <td>...</td>\n",
       "      <td>0.0</td>\n",
       "      <td>0.0</td>\n",
       "      <td>0.0</td>\n",
       "      <td>0.0</td>\n",
       "      <td>0.0</td>\n",
       "      <td>0.0</td>\n",
       "      <td>1500.00</td>\n",
       "      <td>0.0</td>\n",
       "      <td>250.000000</td>\n",
       "      <td>0.000</td>\n",
       "    </tr>\n",
       "  </tbody>\n",
       "</table>\n",
       "<p>5 rows × 102 columns</p>\n",
       "</div>"
      ],
      "text/plain": [
       "   ID_Part_anonymisé  AGE_ANC_PART  departement.1        Age  Attrition  \\\n",
       "0             9901.0          25.0            1.0  24.340426        1.0   \n",
       "1             9902.0          25.0            1.0  24.340426        1.0   \n",
       "2             9903.0          24.0            1.0  23.568977        0.0   \n",
       "3             9904.0          25.0            1.0  24.543583        0.0   \n",
       "4             9905.0          25.0            1.0  24.543583        0.0   \n",
       "\n",
       "   SITU_FAM_AVAN  CD_SEX  NB_CONTRAT_BAQ  NB_CONTRAT_Ass  NB_CONTRAT_eprgn  \\\n",
       "0            1.0     0.0            10.0             0.0               2.0   \n",
       "1            1.0     0.0            10.0             0.0               2.0   \n",
       "2            1.0     1.0             1.0             0.0               2.0   \n",
       "3            1.0     1.0             8.0             0.0               2.0   \n",
       "4            1.0     1.0             8.0             0.0               2.0   \n",
       "\n",
       "   ...  job_PERS.SER  job_PROF,PRO  job_PROF.ADM  job_PROF.INF  job_PROFESSI  \\\n",
       "0  ...           0.0           0.0           0.0           0.0           0.0   \n",
       "1  ...           0.0           0.0           0.0           0.0           0.0   \n",
       "2  ...           0.0           0.0           0.0           0.0           0.0   \n",
       "3  ...           0.0           0.0           0.0           0.0           0.0   \n",
       "4  ...           0.0           0.0           0.0           0.0           0.0   \n",
       "\n",
       "   job_SS ACT.-  flux_max  flux_min    flux_mean  flux_med  \n",
       "0           0.0  21295.66     912.1  5070.973333  1471.435  \n",
       "1           0.0   2800.00       0.0   666.666667   125.000  \n",
       "2           0.0     70.00      10.0    20.000000    10.000  \n",
       "3           0.0   7110.00      30.0  1210.000000    30.000  \n",
       "4           0.0   1500.00       0.0   250.000000     0.000  \n",
       "\n",
       "[5 rows x 102 columns]"
      ]
     },
     "execution_count": 118,
     "metadata": {},
     "output_type": "execute_result"
    }
   ],
   "source": [
    "table = np.concatenate((df1,liste), axis = 1)\n",
    "table1 = pd.DataFrame(table, columns = colonne)\n",
    "table1.head()"
   ]
  },
  {
   "cell_type": "code",
   "execution_count": 119,
   "id": "686a7b11",
   "metadata": {},
   "outputs": [
    {
     "data": {
      "text/plain": [
       "ID_Part_anonymisé    0\n",
       "AGE_ANC_PART         0\n",
       "departement.1        0\n",
       "Age                  0\n",
       "Attrition            0\n",
       "                    ..\n",
       "job_SS ACT.-         0\n",
       "flux_max             0\n",
       "flux_min             0\n",
       "flux_mean            0\n",
       "flux_med             0\n",
       "Length: 102, dtype: int64"
      ]
     },
     "execution_count": 119,
     "metadata": {},
     "output_type": "execute_result"
    }
   ],
   "source": [
    "table1.isna().sum()"
   ]
  },
  {
   "cell_type": "code",
   "execution_count": 122,
   "id": "96e0af0c",
   "metadata": {},
   "outputs": [
    {
     "data": {
      "text/plain": [
       "(37959, 102)"
      ]
     },
     "execution_count": 122,
     "metadata": {},
     "output_type": "execute_result"
    }
   ],
   "source": [
    "table1.shape"
   ]
  },
  {
   "cell_type": "code",
   "execution_count": 125,
   "id": "c957e323",
   "metadata": {},
   "outputs": [],
   "source": [
    "# Enregistrer la BDD néttoyé\n",
    "table1.to_csv('BDD_nettoyé.csv',encoding='utf-8')"
   ]
  },
  {
   "cell_type": "code",
   "execution_count": null,
   "id": "8f1273e9",
   "metadata": {},
   "outputs": [],
   "source": []
  },
  {
   "cell_type": "code",
   "execution_count": null,
   "id": "a5711252",
   "metadata": {},
   "outputs": [],
   "source": []
  },
  {
   "cell_type": "code",
   "execution_count": null,
   "id": "29e0fbf9",
   "metadata": {},
   "outputs": [],
   "source": []
  },
  {
   "cell_type": "code",
   "execution_count": null,
   "id": "d54b6e7e",
   "metadata": {},
   "outputs": [],
   "source": []
  },
  {
   "cell_type": "code",
   "execution_count": null,
   "id": "f00dfe92",
   "metadata": {},
   "outputs": [],
   "source": []
  },
  {
   "cell_type": "code",
   "execution_count": null,
   "id": "09a5f6c5",
   "metadata": {},
   "outputs": [],
   "source": []
  },
  {
   "cell_type": "code",
   "execution_count": 117,
   "id": "8865836f",
   "metadata": {},
   "outputs": [],
   "source": [
    "#pip install auto-sklearn"
   ]
  },
  {
   "cell_type": "code",
   "execution_count": 118,
   "id": "0a30fb17",
   "metadata": {},
   "outputs": [],
   "source": [
    "#Installer la librairie pour équiliber le data set\n",
    "# pip install imbalanced-learn"
   ]
  },
  {
   "cell_type": "code",
   "execution_count": 160,
   "id": "3db66159",
   "metadata": {},
   "outputs": [],
   "source": [
    "# Utiliser AutoMl pour faire une classificatiin et chercher les varaibles importtantes\n",
    "import sklearn.metrics\n",
    "from sklearn.model_selection import train_test_split\n",
    "import imblearn\n",
    "from imblearn.over_sampling import SMOTE"
   ]
  },
  {
   "cell_type": "code",
   "execution_count": 161,
   "id": "50fb00f4",
   "metadata": {},
   "outputs": [],
   "source": [
    "X_train,X_test,y_train,y_test = train_test_split(X,y, test_size = 0.3,random_state=42)"
   ]
  },
  {
   "cell_type": "code",
   "execution_count": 162,
   "id": "04ed5ce4",
   "metadata": {},
   "outputs": [
    {
     "name": "stdout",
     "output_type": "stream",
     "text": [
      "Avant l'équilibrage, le compte des '1' : 1459\n",
      "Avant l'équilibrage, le compte des '0' : 25112\n"
     ]
    }
   ],
   "source": [
    "print(\"Avant l'équilibrage, le compte des '1' : {}\".format(sum(y_train==1)))\n",
    "print(\"Avant l'équilibrage, le compte des '0' : {}\".format(sum(y_train==0)))"
   ]
  },
  {
   "cell_type": "code",
   "execution_count": 163,
   "id": "13da5013",
   "metadata": {},
   "outputs": [],
   "source": [
    "#Equilibrer le data set\n",
    "sm = SMOTE(random_state=42)\n",
    "X_res, y_res = sm.fit_resample(X_train, y_train)"
   ]
  },
  {
   "cell_type": "code",
   "execution_count": 164,
   "id": "2418c312",
   "metadata": {},
   "outputs": [
    {
     "name": "stdout",
     "output_type": "stream",
     "text": [
      "Après l'équilibrage, le compte des '1' : 25112\n",
      "Après l'équilibrage, le compte des '0' : 25112\n"
     ]
    }
   ],
   "source": [
    "print(\"Après l'équilibrage, le compte des '1' : {}\".format(sum(y_res==1)))\n",
    "print(\"Après l'équilibrage, le compte des '0' : {}\".format(sum(y_res==0)))"
   ]
  },
  {
   "cell_type": "markdown",
   "id": "2547140c",
   "metadata": {},
   "source": [
    "- Faire un modèle de classification: on commence par une regression logistique pour estimer la qualité de nos données le niveau de difficulté"
   ]
  },
  {
   "cell_type": "code",
   "execution_count": 199,
   "id": "a0231c8a",
   "metadata": {},
   "outputs": [],
   "source": [
    "# Regression logistique\n",
    "from sklearn.linear_model import LogisticRegression\n",
    "from sklearn.neighbors import KNeighborsClassifier\n",
    "from sklearn.tree import DecisionTreeClassifier\n",
    "from sklearn.model_selection import GridSearchCV\n",
    "from sklearn.linear_model import RidgeCV, LassoCV, Ridge, Lasso\n",
    "from sklearn.linear_model import ElasticNet, SGDClassifier\n",
    "from sklearn.metrics import classification_report,accuracy_score, confusion_matrix\n",
    "from sklearn.ensemble import GradientBoostingClassifier"
   ]
  },
  {
   "cell_type": "code",
   "execution_count": 203,
   "id": "893af06c",
   "metadata": {
    "scrolled": true
   },
   "outputs": [
    {
     "name": "stdout",
     "output_type": "stream",
     "text": [
      "LogisticRegression :\n"
     ]
    },
    {
     "name": "stderr",
     "output_type": "stream",
     "text": [
      "c:\\python38\\lib\\site-packages\\sklearn\\linear_model\\_logistic.py:763: ConvergenceWarning: lbfgs failed to converge (status=1):\n",
      "STOP: TOTAL NO. of ITERATIONS REACHED LIMIT.\n",
      "\n",
      "Increase the number of iterations (max_iter) or scale the data as shown in:\n",
      "    https://scikit-learn.org/stable/modules/preprocessing.html\n",
      "Please also refer to the documentation for alternative solver options:\n",
      "    https://scikit-learn.org/stable/modules/linear_model.html#logistic-regression\n",
      "  n_iter_i = _check_optimize_result(\n"
     ]
    },
    {
     "name": "stdout",
     "output_type": "stream",
     "text": [
      "L'évaluation du modèle est :                precision    recall  f1-score   support\n",
      "\n",
      "           0       0.98      0.59      0.73     10731\n",
      "           1       0.10      0.78      0.18       657\n",
      "\n",
      "    accuracy                           0.60     11388\n",
      "   macro avg       0.54      0.68      0.46     11388\n",
      "weighted avg       0.93      0.60      0.70     11388\n",
      "\n",
      "======================================================================\n",
      "KNeighborsclissifier :\n",
      "L'évaluation du modèle est :                precision    recall  f1-score   support\n",
      "\n",
      "           0       0.97      0.83      0.90     10731\n",
      "           1       0.17      0.56      0.26       657\n",
      "\n",
      "    accuracy                           0.82     11388\n",
      "   macro avg       0.57      0.70      0.58     11388\n",
      "weighted avg       0.92      0.82      0.86     11388\n",
      "\n",
      "======================================================================\n",
      "DecisionTreeClassifier :\n",
      "L'évaluation du modèle est :                precision    recall  f1-score   support\n",
      "\n",
      "           0       0.98      0.86      0.91     10731\n",
      "           1       0.23      0.71      0.35       657\n",
      "\n",
      "    accuracy                           0.85     11388\n",
      "   macro avg       0.61      0.78      0.63     11388\n",
      "weighted avg       0.94      0.85      0.88     11388\n",
      "\n",
      "======================================================================\n",
      "XGBoost :\n",
      "L'évaluation du modèle est :                precision    recall  f1-score   support\n",
      "\n",
      "           0       0.98      0.92      0.95     10731\n",
      "           1       0.33      0.61      0.43       657\n",
      "\n",
      "    accuracy                           0.91     11388\n",
      "   macro avg       0.65      0.77      0.69     11388\n",
      "weighted avg       0.94      0.91      0.92     11388\n",
      "\n",
      "======================================================================\n"
     ]
    },
    {
     "data": {
      "image/png": "[encoded data removed]",
      "text/plain": [
       "<Figure size 576x720 with 2 Axes>"
      ]
     },
     "metadata": {
      "needs_background": "light"
     },
     "output_type": "display_data"
    },
    {
     "data": {
      "image/png": "[encoded data removed]",
      "text/plain": [
       "<Figure size 576x720 with 2 Axes>"
      ]
     },
     "metadata": {
      "needs_background": "light"
     },
     "output_type": "display_data"
    },
    {
     "data": {
      "image/png": "[encoded data removed]",
      "text/plain": [
       "<Figure size 576x720 with 2 Axes>"
      ]
     },
     "metadata": {
      "needs_background": "light"
     },
     "output_type": "display_data"
    },
    {
     "data": {
      "image/png": "[encoded data removed]",
      "text/plain": [
       "<Figure size 576x720 with 2 Axes>"
      ]
     },
     "metadata": {
      "needs_background": "light"
     },
     "output_type": "display_data"
    }
   ],
   "source": [
    "models = {'LogisticRegression':LogisticRegression(random_state=42),\n",
    "         'KNeighborsclissifier':KNeighborsClassifier(),\n",
    "         'DecisionTreeClassifier':DecisionTreeClassifier(max_depth=1,random_state=42),\n",
    "         'XGBoost': GradientBoostingClassifier(n_estimators=500,learning_rate=1)\n",
    "         }\n",
    "#fonction de precision\n",
    "def accu(y_test, y_pred, retu=False):\n",
    "    report = classification_report(y_test, y_pred)\n",
    "    if retu :\n",
    "        return report\n",
    "    else:\n",
    "        print(\"L'évaluation du modèle est : \",report)\n",
    "        \n",
    "def Mat_confu(y_test,y_pred): \n",
    "    fig = plt.figure()\n",
    "    # Matrice de confusion\n",
    "    ax= plt.subplot()\n",
    "    sns.heatmap(confusion_matrix(y_test,y_pred), annot=True, ax = ax ,fmt='g'); #annot=True to annotate cells\n",
    "    ax.set_xlabel('Valeurs prédites');ax.set_ylabel('Valeurs réelles'); \n",
    "    ax.set_title('Confusion Matrix'); \n",
    "    bottom, top = ax.get_ylim()\n",
    "    ax.set_ylim(bottom + 0.5, top - 0.5)\n",
    "    ax.xaxis.set_ticklabels(['Client', 'Prospect']); ax.yaxis.set_ticklabels(['Client', 'Prospect']);\n",
    "    print('='*70)\n",
    "   \n",
    "        \n",
    "def train_test_eval(models, x_train,y_train,x_test,y_test):\n",
    "    for name,model in models.items():\n",
    "        print(name,':')\n",
    "        model.fit(x_train,y_train)\n",
    "        accu(y_test,model.predict(x_test))\n",
    "        Mat_confu(y_test,model.predict(x_test))\n",
    "        print('='*70)\n",
    "        \n",
    "train_test_eval(models,X_res,y_res,X_test,y_test)"
   ]
  },
  {
   "cell_type": "code",
   "execution_count": null,
   "id": "3d6bf36a",
   "metadata": {},
   "outputs": [],
   "source": [
    "# Selectinner les varaibles importante\n"
   ]
  },
  {
   "cell_type": "code",
   "execution_count": null,
   "id": "1ec2a3ff",
   "metadata": {},
   "outputs": [],
   "source": []
  },
  {
   "cell_type": "code",
   "execution_count": 166,
   "id": "4cafee0a",
   "metadata": {},
   "outputs": [
    {
     "data": {
      "text/plain": [
       "LassoCV()"
      ]
     },
     "execution_count": 166,
     "metadata": {},
     "output_type": "execute_result"
    }
   ],
   "source": [
    "#avoir les variables importantes\n",
    "reg = LassoCV()\n",
    "reg.fit(X_res,y_res)"
   ]
  },
  {
   "cell_type": "code",
   "execution_count": 167,
   "id": "fc059b02",
   "metadata": {},
   "outputs": [
    {
     "name": "stdout",
     "output_type": "stream",
     "text": [
      "Best alpha using built-in LassoCV: 0.787811\n",
      "Best score using built-in LassoCV: 0.087361\n"
     ]
    }
   ],
   "source": [
    "print(\"Best alpha using built-in LassoCV: %f\" % reg.alpha_)\n",
    "print(\"Best score using built-in LassoCV: %f\" %reg.score(X_res,y_res))\n",
    "coef = pd.Series(reg.coef_, index = X_res.columns)"
   ]
  },
  {
   "cell_type": "code",
   "execution_count": 168,
   "id": "52e5eef0",
   "metadata": {},
   "outputs": [
    {
     "name": "stdout",
     "output_type": "stream",
     "text": [
      "Lasso picked 14 variables and eliminated the other 103 variables\n"
     ]
    }
   ],
   "source": [
    "print(\"Lasso picked \" + str(sum(coef != 0)) + \" variables and eliminated the other \" +  str(sum(coef == 0)) + \" variables\")"
   ]
  },
  {
   "cell_type": "code",
   "execution_count": 169,
   "id": "106bec05",
   "metadata": {},
   "outputs": [
    {
     "data": {
      "text/plain": [
       "Text(0.5, 1.0, 'Feature importance using Lasso Model')"
      ]
     },
     "execution_count": 169,
     "metadata": {},
     "output_type": "execute_result"
    },
    {
     "data": {
      "image/png": "[encoded data removed]",
      "text/plain": [
       "<Figure size 576x720 with 1 Axes>"
      ]
     },
     "metadata": {
      "needs_background": "light"
     },
     "output_type": "display_data"
    }
   ],
   "source": [
    "imp_coef = coef.sort_values()\n",
    "import matplotlib\n",
    "matplotlib.rcParams['figure.figsize'] = (8.0, 10.0)\n",
    "imp_coef.plot(kind = \"barh\")\n",
    "plt.title(\"Feature importance using Lasso Model\")"
   ]
  },
  {
   "cell_type": "code",
   "execution_count": 170,
   "id": "39890a2e",
   "metadata": {},
   "outputs": [
    {
     "name": "stdout",
     "output_type": "stream",
     "text": [
      "Index(['NB_CONX_BAM_12M', 'NB_OPERN_AG_WEB_3M', 'MT_12', 'MT_1', 'MT_3',\n",
      "       'MT_8', 'MT_9', 'MT_4', 'MT_11', 'MT_2', 'MT_6', 'MT_5', 'MT_7',\n",
      "       'NB_OPERN_AG_WEB_12M'],\n",
      "      dtype='object')\n",
      "Index(['NB_CONX_BAM_12M', 'NB_OPERN_AG_WEB_3M', 'MT_12', 'MT_1', 'MT_3',\n",
      "       'MT_8', 'MT_9', 'MT_4', 'MT_11', 'MT_2', 'MT_6', 'MT_5', 'MT_7',\n",
      "       'NB_OPERN_AG_WEB_12M', 'Attrition'],\n",
      "      dtype='object')\n"
     ]
    }
   ],
   "source": [
    "# affichage des variables importantes\n",
    "features = pd.DataFrame(imp_coef.where(imp_coef != 0).dropna()).transpose().columns\n",
    "print(features)\n",
    "# creation de la nouvelle base de travail\n",
    "y_ = pd.Index(['Attrition'])\n",
    "features = features.append([y_])\n",
    "print(features)"
   ]
  },
  {
   "cell_type": "code",
   "execution_count": 171,
   "id": "59885507",
   "metadata": {},
   "outputs": [
    {
     "data": {
      "text/html": [
       "<div>\n",
       "<style scoped>\n",
       "    .dataframe tbody tr th:only-of-type {\n",
       "        vertical-align: middle;\n",
       "    }\n",
       "\n",
       "    .dataframe tbody tr th {\n",
       "        vertical-align: top;\n",
       "    }\n",
       "\n",
       "    .dataframe thead th {\n",
       "        text-align: right;\n",
       "    }\n",
       "</style>\n",
       "<table border=\"1\" class=\"dataframe\">\n",
       "  <thead>\n",
       "    <tr style=\"text-align: right;\">\n",
       "      <th></th>\n",
       "      <th>NB_CONX_BAM_12M</th>\n",
       "      <th>NB_OPERN_AG_WEB_3M</th>\n",
       "      <th>MT_12</th>\n",
       "      <th>MT_1</th>\n",
       "      <th>MT_3</th>\n",
       "      <th>MT_8</th>\n",
       "      <th>MT_9</th>\n",
       "      <th>MT_4</th>\n",
       "      <th>MT_11</th>\n",
       "      <th>MT_2</th>\n",
       "      <th>MT_6</th>\n",
       "      <th>MT_5</th>\n",
       "      <th>MT_7</th>\n",
       "      <th>NB_OPERN_AG_WEB_12M</th>\n",
       "      <th>Attrition</th>\n",
       "    </tr>\n",
       "  </thead>\n",
       "  <tbody>\n",
       "    <tr>\n",
       "      <th>0</th>\n",
       "      <td>528.0</td>\n",
       "      <td>1152.0</td>\n",
       "      <td>1947.18</td>\n",
       "      <td>21295.66</td>\n",
       "      <td>1524.31</td>\n",
       "      <td>1026.16</td>\n",
       "      <td>2918.66</td>\n",
       "      <td>1418.56</td>\n",
       "      <td>7550.97</td>\n",
       "      <td>912.1</td>\n",
       "      <td>3867.97</td>\n",
       "      <td>1407.24</td>\n",
       "      <td>1115.84</td>\n",
       "      <td>3386.0</td>\n",
       "      <td>1</td>\n",
       "    </tr>\n",
       "    <tr>\n",
       "      <th>1</th>\n",
       "      <td>528.0</td>\n",
       "      <td>1152.0</td>\n",
       "      <td>300.00</td>\n",
       "      <td>2800.00</td>\n",
       "      <td>150.00</td>\n",
       "      <td>200.00</td>\n",
       "      <td>1000.00</td>\n",
       "      <td>100.00</td>\n",
       "      <td>800.00</td>\n",
       "      <td>0.0</td>\n",
       "      <td>0.00</td>\n",
       "      <td>950.00</td>\n",
       "      <td>0.00</td>\n",
       "      <td>3386.0</td>\n",
       "      <td>1</td>\n",
       "    </tr>\n",
       "    <tr>\n",
       "      <th>2</th>\n",
       "      <td>0.0</td>\n",
       "      <td>0.0</td>\n",
       "      <td>10.00</td>\n",
       "      <td>70.00</td>\n",
       "      <td>10.00</td>\n",
       "      <td>10.00</td>\n",
       "      <td>10.00</td>\n",
       "      <td>10.00</td>\n",
       "      <td>10.00</td>\n",
       "      <td>10.0</td>\n",
       "      <td>10.00</td>\n",
       "      <td>10.00</td>\n",
       "      <td>10.00</td>\n",
       "      <td>0.0</td>\n",
       "      <td>0</td>\n",
       "    </tr>\n",
       "    <tr>\n",
       "      <th>3</th>\n",
       "      <td>82.0</td>\n",
       "      <td>20.0</td>\n",
       "      <td>30.00</td>\n",
       "      <td>7110.00</td>\n",
       "      <td>30.00</td>\n",
       "      <td>5030.00</td>\n",
       "      <td>30.00</td>\n",
       "      <td>30.00</td>\n",
       "      <td>1930.00</td>\n",
       "      <td>30.0</td>\n",
       "      <td>30.00</td>\n",
       "      <td>30.00</td>\n",
       "      <td>30.00</td>\n",
       "      <td>242.0</td>\n",
       "      <td>0</td>\n",
       "    </tr>\n",
       "    <tr>\n",
       "      <th>4</th>\n",
       "      <td>82.0</td>\n",
       "      <td>20.0</td>\n",
       "      <td>0.00</td>\n",
       "      <td>1500.00</td>\n",
       "      <td>0.00</td>\n",
       "      <td>1500.00</td>\n",
       "      <td>0.00</td>\n",
       "      <td>0.00</td>\n",
       "      <td>0.00</td>\n",
       "      <td>0.0</td>\n",
       "      <td>0.00</td>\n",
       "      <td>0.00</td>\n",
       "      <td>0.00</td>\n",
       "      <td>242.0</td>\n",
       "      <td>0</td>\n",
       "    </tr>\n",
       "  </tbody>\n",
       "</table>\n",
       "</div>"
      ],
      "text/plain": [
       "   NB_CONX_BAM_12M  NB_OPERN_AG_WEB_3M    MT_12      MT_1     MT_3     MT_8  \\\n",
       "0            528.0              1152.0  1947.18  21295.66  1524.31  1026.16   \n",
       "1            528.0              1152.0   300.00   2800.00   150.00   200.00   \n",
       "2              0.0                 0.0    10.00     70.00    10.00    10.00   \n",
       "3             82.0                20.0    30.00   7110.00    30.00  5030.00   \n",
       "4             82.0                20.0     0.00   1500.00     0.00  1500.00   \n",
       "\n",
       "      MT_9     MT_4    MT_11   MT_2     MT_6     MT_5     MT_7  \\\n",
       "0  2918.66  1418.56  7550.97  912.1  3867.97  1407.24  1115.84   \n",
       "1  1000.00   100.00   800.00    0.0     0.00   950.00     0.00   \n",
       "2    10.00    10.00    10.00   10.0    10.00    10.00    10.00   \n",
       "3    30.00    30.00  1930.00   30.0    30.00    30.00    30.00   \n",
       "4     0.00     0.00     0.00    0.0     0.00     0.00     0.00   \n",
       "\n",
       "   NB_OPERN_AG_WEB_12M  Attrition  \n",
       "0               3386.0          1  \n",
       "1               3386.0          1  \n",
       "2                  0.0          0  \n",
       "3                242.0          0  \n",
       "4                242.0          0  "
      ]
     },
     "execution_count": 171,
     "metadata": {},
     "output_type": "execute_result"
    }
   ],
   "source": [
    "data_ = df1[features]\n",
    "data_.head(5)"
   ]
  },
  {
   "cell_type": "code",
   "execution_count": 66,
   "id": "9216357c",
   "metadata": {},
   "outputs": [
    {
     "data": {
      "text/html": [
       "<div>\n",
       "<style scoped>\n",
       "    .dataframe tbody tr th:only-of-type {\n",
       "        vertical-align: middle;\n",
       "    }\n",
       "\n",
       "    .dataframe tbody tr th {\n",
       "        vertical-align: top;\n",
       "    }\n",
       "\n",
       "    .dataframe thead th {\n",
       "        text-align: right;\n",
       "    }\n",
       "</style>\n",
       "<table border=\"1\" class=\"dataframe\">\n",
       "  <thead>\n",
       "    <tr style=\"text-align: right;\">\n",
       "      <th></th>\n",
       "      <th>NB_OPERN_AG_WEB_3M</th>\n",
       "      <th>NB_CONX_BAM_12M</th>\n",
       "      <th>MT_12</th>\n",
       "      <th>MT_1</th>\n",
       "      <th>MT_3</th>\n",
       "      <th>MT_11</th>\n",
       "      <th>MT_4</th>\n",
       "      <th>MT_2</th>\n",
       "      <th>MT_8</th>\n",
       "      <th>MT_9</th>\n",
       "      <th>MT_10</th>\n",
       "      <th>MT_6</th>\n",
       "      <th>MT_5</th>\n",
       "      <th>MT_7</th>\n",
       "      <th>NB_OPERN_AG_WEB_12M</th>\n",
       "    </tr>\n",
       "    <tr>\n",
       "      <th>Attrition</th>\n",
       "      <th></th>\n",
       "      <th></th>\n",
       "      <th></th>\n",
       "      <th></th>\n",
       "      <th></th>\n",
       "      <th></th>\n",
       "      <th></th>\n",
       "      <th></th>\n",
       "      <th></th>\n",
       "      <th></th>\n",
       "      <th></th>\n",
       "      <th></th>\n",
       "      <th></th>\n",
       "      <th></th>\n",
       "      <th></th>\n",
       "    </tr>\n",
       "  </thead>\n",
       "  <tbody>\n",
       "    <tr>\n",
       "      <th>0</th>\n",
       "      <td>35843</td>\n",
       "      <td>35843</td>\n",
       "      <td>35843</td>\n",
       "      <td>35843</td>\n",
       "      <td>35843</td>\n",
       "      <td>35843</td>\n",
       "      <td>35843</td>\n",
       "      <td>35843</td>\n",
       "      <td>35843</td>\n",
       "      <td>35843</td>\n",
       "      <td>35843</td>\n",
       "      <td>35843</td>\n",
       "      <td>35843</td>\n",
       "      <td>35843</td>\n",
       "      <td>35843</td>\n",
       "    </tr>\n",
       "    <tr>\n",
       "      <th>1</th>\n",
       "      <td>2116</td>\n",
       "      <td>2116</td>\n",
       "      <td>2116</td>\n",
       "      <td>2116</td>\n",
       "      <td>2116</td>\n",
       "      <td>2116</td>\n",
       "      <td>2116</td>\n",
       "      <td>2116</td>\n",
       "      <td>2116</td>\n",
       "      <td>2116</td>\n",
       "      <td>2116</td>\n",
       "      <td>2116</td>\n",
       "      <td>2116</td>\n",
       "      <td>2116</td>\n",
       "      <td>2116</td>\n",
       "    </tr>\n",
       "  </tbody>\n",
       "</table>\n",
       "</div>"
      ],
      "text/plain": [
       "           NB_OPERN_AG_WEB_3M  NB_CONX_BAM_12M  MT_12   MT_1   MT_3  MT_11  \\\n",
       "Attrition                                                                    \n",
       "0                       35843            35843  35843  35843  35843  35843   \n",
       "1                        2116             2116   2116   2116   2116   2116   \n",
       "\n",
       "            MT_4   MT_2   MT_8   MT_9  MT_10   MT_6   MT_5   MT_7  \\\n",
       "Attrition                                                           \n",
       "0          35843  35843  35843  35843  35843  35843  35843  35843   \n",
       "1           2116   2116   2116   2116   2116   2116   2116   2116   \n",
       "\n",
       "           NB_OPERN_AG_WEB_12M  \n",
       "Attrition                       \n",
       "0                        35843  \n",
       "1                         2116  "
      ]
     },
     "execution_count": 66,
     "metadata": {},
     "output_type": "execute_result"
    }
   ],
   "source": [
    "data_.groupby('Attrition').count()"
   ]
  },
  {
   "cell_type": "code",
   "execution_count": 67,
   "id": "e94cabd9",
   "metadata": {},
   "outputs": [],
   "source": [
    "# from sklearn.model_selection import train_test_split\n",
    "X_ = data_.drop('Attrition', axis=1)\n",
    "y_ = data_['Attrition']\n",
    "X_train, X_test, y_train, y_test = train_test_split(X_, y_, test_size=0.2, random_state=64)"
   ]
  },
  {
   "cell_type": "code",
   "execution_count": 68,
   "id": "af18d092",
   "metadata": {},
   "outputs": [
    {
     "name": "stderr",
     "output_type": "stream",
     "text": [
      "c:\\python38\\lib\\site-packages\\sklearn\\linear_model\\_logistic.py:763: ConvergenceWarning: lbfgs failed to converge (status=1):\n",
      "STOP: TOTAL NO. of ITERATIONS REACHED LIMIT.\n",
      "\n",
      "Increase the number of iterations (max_iter) or scale the data as shown in:\n",
      "    https://scikit-learn.org/stable/modules/preprocessing.html\n",
      "Please also refer to the documentation for alternative solver options:\n",
      "    https://scikit-learn.org/stable/modules/linear_model.html#logistic-regression\n",
      "  n_iter_i = _check_optimize_result(\n"
     ]
    },
    {
     "data": {
      "text/plain": [
       "array([0, 0, 0, ..., 0, 0, 0], dtype=int64)"
      ]
     },
     "execution_count": 68,
     "metadata": {},
     "output_type": "execute_result"
    }
   ],
   "source": [
    "# Entrainer le model\n",
    "model = LogisticRegression(solver='lbfgs',multi_class='auto',penalty='none')\n",
    "model.fit(X_train, y_train) #Training the model\n",
    "\n",
    "#Test the model\n",
    "y_pred = model.predict(X_test)\n",
    "y_pred"
   ]
  },
  {
   "cell_type": "code",
   "execution_count": 69,
   "id": "e559c42e",
   "metadata": {},
   "outputs": [
    {
     "name": "stdout",
     "output_type": "stream",
     "text": [
      "              precision    recall  f1-score   support\n",
      "\n",
      "           0       0.94      1.00      0.97      7148\n",
      "           1       0.10      0.00      0.01       444\n",
      "\n",
      "    accuracy                           0.94      7592\n",
      "   macro avg       0.52      0.50      0.49      7592\n",
      "weighted avg       0.89      0.94      0.91      7592\n",
      "\n",
      "0.9392781875658588\n",
      "[[7129   19]\n",
      " [ 442    2]]\n"
     ]
    }
   ],
   "source": [
    "#Evaluer le modèle\n",
    "from sklearn.metrics import classification_report\n",
    "print(classification_report(y_test, y_pred))\n",
    "\n",
    "from sklearn.metrics import accuracy_score\n",
    "print(accuracy_score(y_test, y_pred)) # le plus important pour le moment; précisément la première ligne\n",
    "\n",
    "from sklearn.metrics import confusion_matrix\n",
    "print(confusion_matrix(y_test, y_pred))"
   ]
  },
  {
   "cell_type": "markdown",
   "id": "a76250d0",
   "metadata": {},
   "source": [
    "- On reamrque que le modèle n'est pas du tout permormant\n",
    "- Solution 1 : pondération des modalités de la variable à expliquer\n",
    "- Solution 2 : création d'un train plus équilibré"
   ]
  },
  {
   "cell_type": "markdown",
   "id": "023a6dbd",
   "metadata": {},
   "source": [
    "> ### Pondération des modalités"
   ]
  },
  {
   "cell_type": "code",
   "execution_count": 70,
   "id": "4aa4d21d",
   "metadata": {},
   "outputs": [
    {
     "name": "stderr",
     "output_type": "stream",
     "text": [
      "c:\\python38\\lib\\site-packages\\sklearn\\utils\\validation.py:70: FutureWarning: Pass classes=[0 1], y=8833     0\n",
      "26297    0\n",
      "25000    0\n",
      "4991     0\n",
      "36323    0\n",
      "        ..\n",
      "13360    0\n",
      "16469    0\n",
      "36006    0\n",
      "22647    0\n",
      "21478    0\n",
      "Name: Attrition, Length: 30367, dtype: int64 as keyword args. From version 1.0 (renaming of 0.25) passing these as positional arguments will result in an error\n",
      "  warnings.warn(f\"Pass {args_msg} as keyword args. From version \"\n"
     ]
    }
   ],
   "source": [
    "from sklearn.utils import class_weight\n",
    "weight = class_weight.compute_class_weight('balanced', y_train.unique(), y_train)\n",
    "model = LogisticRegression(multi_class='auto', solver='liblinear', class_weight = {0:weight[0], 1:weight[1]})"
   ]
  },
  {
   "cell_type": "code",
   "execution_count": 71,
   "id": "b22846af",
   "metadata": {},
   "outputs": [
    {
     "data": {
      "text/plain": [
       "array([1, 1, 0, ..., 1, 1, 1], dtype=int64)"
      ]
     },
     "execution_count": 71,
     "metadata": {},
     "output_type": "execute_result"
    }
   ],
   "source": [
    "model.fit(X_train, y_train) #Training the model\n",
    "\n",
    "#Test the model\n",
    "y_pred = model.predict(X_test)\n",
    "y_pred"
   ]
  },
  {
   "cell_type": "code",
   "execution_count": 72,
   "id": "e3441cab",
   "metadata": {},
   "outputs": [
    {
     "name": "stdout",
     "output_type": "stream",
     "text": [
      "              precision    recall  f1-score   support\n",
      "\n",
      "           0       0.98      0.50      0.66      7148\n",
      "           1       0.09      0.81      0.17       444\n",
      "\n",
      "    accuracy                           0.52      7592\n",
      "   macro avg       0.53      0.66      0.41      7592\n",
      "weighted avg       0.93      0.52      0.63      7592\n",
      "\n",
      "0.5210748155953635\n",
      "[[3595 3553]\n",
      " [  83  361]]\n"
     ]
    }
   ],
   "source": [
    "from sklearn.metrics import classification_report\n",
    "print(classification_report(y_test, y_pred))\n",
    "\n",
    "from sklearn.metrics import accuracy_score\n",
    "print(accuracy_score(y_test, y_pred)) # le plus important pour le moment; précisément la première ligne\n",
    "\n",
    "from sklearn.metrics import confusion_matrix\n",
    "print(confusion_matrix(y_test, y_pred))"
   ]
  },
  {
   "cell_type": "markdown",
   "id": "5c9bbd87",
   "metadata": {},
   "source": [
    "On a amélioré la prédiction des attrition mais pas satisfaisant encore"
   ]
  },
  {
   "cell_type": "code",
   "execution_count": 76,
   "id": "6764fd55",
   "metadata": {},
   "outputs": [],
   "source": [
    "# Solution 2 : équilibrer les data set\n",
    "# le but de la suite, c'est de donner à notre modèle, un train set plus équilibré\n",
    "data_0 = df1.loc[data_['Attrition'] == 0]\n",
    "X = data_0.drop('Attrition', axis=1)\n",
    "y = data_0['Attrition']\n",
    "X_train0, X_val, y_train0, y_val = train_test_split(X, y, test_size=0.95, random_state=64)"
   ]
  },
  {
   "cell_type": "code",
   "execution_count": 78,
   "id": "f83dadc5",
   "metadata": {},
   "outputs": [],
   "source": [
    "data_1 = df1.loc[data_['Attrition'] == 1]\n",
    "X = data_1.drop('Attrition', axis=1)\n",
    "y = data_1['Attrition']\n",
    "\n",
    "X_ = pd.concat([X_train0, X], ignore_index=True)\n",
    "# X_test = pd.concat([X_test0, X_test1], ignore_index=True)\n",
    "y_ = pd.concat([y_train0, y], ignore_index=True)\n",
    "# y_test = pd.concat([y_test0, y_test1], ignore_index=True)\n",
    "\n",
    "X_train, X_test, y_train, y_test = train_test_split(X_, y_, test_size=0.3, random_state=64)"
   ]
  },
  {
   "cell_type": "code",
   "execution_count": 83,
   "id": "94c9d50f",
   "metadata": {},
   "outputs": [
    {
     "data": {
      "text/html": [
       "<div>\n",
       "<style scoped>\n",
       "    .dataframe tbody tr th:only-of-type {\n",
       "        vertical-align: middle;\n",
       "    }\n",
       "\n",
       "    .dataframe tbody tr th {\n",
       "        vertical-align: top;\n",
       "    }\n",
       "\n",
       "    .dataframe thead th {\n",
       "        text-align: right;\n",
       "    }\n",
       "</style>\n",
       "<table border=\"1\" class=\"dataframe\">\n",
       "  <thead>\n",
       "    <tr style=\"text-align: right;\">\n",
       "      <th></th>\n",
       "      <th>ID_Part_anonymisé</th>\n",
       "      <th>AGE_ANC_PART</th>\n",
       "      <th>departement.1</th>\n",
       "      <th>Age</th>\n",
       "      <th>SITU_FAM_AVAN</th>\n",
       "      <th>CD_SEX</th>\n",
       "      <th>situ_pro</th>\n",
       "      <th>NB_CONTRAT_BAQ</th>\n",
       "      <th>NB_CONTRAT_Ass</th>\n",
       "      <th>NB_CONTRAT_eprgn</th>\n",
       "      <th>...</th>\n",
       "      <th>NB_PL_VERT_AVENIR</th>\n",
       "      <th>NB_PREDISSIME_9</th>\n",
       "      <th>NB_EP_BILAN</th>\n",
       "      <th>NB_EP_LIQUIDE</th>\n",
       "      <th>NB_EP_STABLE</th>\n",
       "      <th>NB_CSL_BOOST</th>\n",
       "      <th>NB_ASS_VIE_RENTE</th>\n",
       "      <th>enfant_client</th>\n",
       "      <th>offre_25AN</th>\n",
       "      <th>offre_18AN</th>\n",
       "    </tr>\n",
       "  </thead>\n",
       "  <tbody>\n",
       "    <tr>\n",
       "      <th>3550</th>\n",
       "      <td>99032922</td>\n",
       "      <td>25</td>\n",
       "      <td>GE</td>\n",
       "      <td>24.200412</td>\n",
       "      <td>1</td>\n",
       "      <td>F</td>\n",
       "      <td>ELEVES-E</td>\n",
       "      <td>1.0</td>\n",
       "      <td>0.0</td>\n",
       "      <td>1.0</td>\n",
       "      <td>...</td>\n",
       "      <td>0.0</td>\n",
       "      <td>0.0</td>\n",
       "      <td>1.0</td>\n",
       "      <td>1.0</td>\n",
       "      <td>0.0</td>\n",
       "      <td>0.0</td>\n",
       "      <td>0.0</td>\n",
       "      <td>0</td>\n",
       "      <td>0</td>\n",
       "      <td>0</td>\n",
       "    </tr>\n",
       "    <tr>\n",
       "      <th>1581</th>\n",
       "      <td>99021845</td>\n",
       "      <td>24</td>\n",
       "      <td>GE</td>\n",
       "      <td>23.527797</td>\n",
       "      <td>1</td>\n",
       "      <td>M</td>\n",
       "      <td>PROF,PRO</td>\n",
       "      <td>13.0</td>\n",
       "      <td>3.0</td>\n",
       "      <td>3.0</td>\n",
       "      <td>...</td>\n",
       "      <td>0.0</td>\n",
       "      <td>0.0</td>\n",
       "      <td>2.0</td>\n",
       "      <td>3.0</td>\n",
       "      <td>0.0</td>\n",
       "      <td>0.0</td>\n",
       "      <td>0.0</td>\n",
       "      <td>0</td>\n",
       "      <td>0</td>\n",
       "      <td>0</td>\n",
       "    </tr>\n",
       "    <tr>\n",
       "      <th>2911</th>\n",
       "      <td>99023434</td>\n",
       "      <td>24</td>\n",
       "      <td>GE</td>\n",
       "      <td>23.374056</td>\n",
       "      <td>1</td>\n",
       "      <td>M</td>\n",
       "      <td>ELEVES-E</td>\n",
       "      <td>1.0</td>\n",
       "      <td>0.0</td>\n",
       "      <td>0.0</td>\n",
       "      <td>...</td>\n",
       "      <td>0.0</td>\n",
       "      <td>0.0</td>\n",
       "      <td>0.0</td>\n",
       "      <td>0.0</td>\n",
       "      <td>0.0</td>\n",
       "      <td>0.0</td>\n",
       "      <td>0.0</td>\n",
       "      <td>1</td>\n",
       "      <td>1</td>\n",
       "      <td>0</td>\n",
       "    </tr>\n",
       "    <tr>\n",
       "      <th>1136</th>\n",
       "      <td>99024025</td>\n",
       "      <td>21</td>\n",
       "      <td>HGE</td>\n",
       "      <td>20.183940</td>\n",
       "      <td>1</td>\n",
       "      <td>M</td>\n",
       "      <td>ELEVES-E</td>\n",
       "      <td>3.0</td>\n",
       "      <td>0.0</td>\n",
       "      <td>3.0</td>\n",
       "      <td>...</td>\n",
       "      <td>0.0</td>\n",
       "      <td>0.0</td>\n",
       "      <td>3.0</td>\n",
       "      <td>2.0</td>\n",
       "      <td>1.0</td>\n",
       "      <td>0.0</td>\n",
       "      <td>0.0</td>\n",
       "      <td>1</td>\n",
       "      <td>1</td>\n",
       "      <td>0</td>\n",
       "    </tr>\n",
       "    <tr>\n",
       "      <th>678</th>\n",
       "      <td>9901527</td>\n",
       "      <td>24</td>\n",
       "      <td>GE</td>\n",
       "      <td>23.511325</td>\n",
       "      <td>1</td>\n",
       "      <td>M</td>\n",
       "      <td>ELEVES-E</td>\n",
       "      <td>10.0</td>\n",
       "      <td>0.0</td>\n",
       "      <td>4.0</td>\n",
       "      <td>...</td>\n",
       "      <td>0.0</td>\n",
       "      <td>0.0</td>\n",
       "      <td>4.0</td>\n",
       "      <td>3.0</td>\n",
       "      <td>1.0</td>\n",
       "      <td>0.0</td>\n",
       "      <td>0.0</td>\n",
       "      <td>1</td>\n",
       "      <td>1</td>\n",
       "      <td>0</td>\n",
       "    </tr>\n",
       "  </tbody>\n",
       "</table>\n",
       "<p>5 rows × 93 columns</p>\n",
       "</div>"
      ],
      "text/plain": [
       "      ID_Part_anonymisé  AGE_ANC_PART departement.1        Age  SITU_FAM_AVAN  \\\n",
       "3550           99032922            25            GE  24.200412              1   \n",
       "1581           99021845            24            GE  23.527797              1   \n",
       "2911           99023434            24            GE  23.374056              1   \n",
       "1136           99024025            21           HGE  20.183940              1   \n",
       "678             9901527            24            GE  23.511325              1   \n",
       "\n",
       "     CD_SEX  situ_pro  NB_CONTRAT_BAQ  NB_CONTRAT_Ass  NB_CONTRAT_eprgn  ...  \\\n",
       "3550      F  ELEVES-E             1.0             0.0               1.0  ...   \n",
       "1581      M  PROF,PRO            13.0             3.0               3.0  ...   \n",
       "2911      M  ELEVES-E             1.0             0.0               0.0  ...   \n",
       "1136      M  ELEVES-E             3.0             0.0               3.0  ...   \n",
       "678       M  ELEVES-E            10.0             0.0               4.0  ...   \n",
       "\n",
       "      NB_PL_VERT_AVENIR  NB_PREDISSIME_9  NB_EP_BILAN  NB_EP_LIQUIDE  \\\n",
       "3550                0.0              0.0          1.0            1.0   \n",
       "1581                0.0              0.0          2.0            3.0   \n",
       "2911                0.0              0.0          0.0            0.0   \n",
       "1136                0.0              0.0          3.0            2.0   \n",
       "678                 0.0              0.0          4.0            3.0   \n",
       "\n",
       "      NB_EP_STABLE  NB_CSL_BOOST  NB_ASS_VIE_RENTE  enfant_client  offre_25AN  \\\n",
       "3550           0.0           0.0               0.0              0           0   \n",
       "1581           0.0           0.0               0.0              0           0   \n",
       "2911           0.0           0.0               0.0              1           1   \n",
       "1136           1.0           0.0               0.0              1           1   \n",
       "678            1.0           0.0               0.0              1           1   \n",
       "\n",
       "      offre_18AN  \n",
       "3550           0  \n",
       "1581           0  \n",
       "2911           0  \n",
       "1136           0  \n",
       "678            0  \n",
       "\n",
       "[5 rows x 93 columns]"
      ]
     },
     "execution_count": 83,
     "metadata": {},
     "output_type": "execute_result"
    }
   ],
   "source": [
    "X_train.head()"
   ]
  },
  {
   "cell_type": "code",
   "execution_count": null,
   "id": "3bff5913",
   "metadata": {},
   "outputs": [],
   "source": []
  },
  {
   "cell_type": "code",
   "execution_count": null,
   "id": "91443dbb",
   "metadata": {},
   "outputs": [],
   "source": []
  }
 ],
 "metadata": {
  "kernelspec": {
   "display_name": "Python 3",
   "language": "python",
   "name": "python3"
  },
  "language_info": {
   "codemirror_mode": {
    "name": "ipython",
    "version": 3
   },
   "file_extension": ".py",
   "mimetype": "text/x-python",
   "name": "python",
   "nbconvert_exporter": "python",
   "pygments_lexer": "ipython3",
   "version": "3.8.4"
  }
 },
 "nbformat": 4,
 "nbformat_minor": 5
}
